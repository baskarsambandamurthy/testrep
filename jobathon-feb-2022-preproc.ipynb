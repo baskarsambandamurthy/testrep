{
 "cells": [
  {
   "cell_type": "code",
   "execution_count": 1,
   "id": "3addb381",
   "metadata": {
    "_cell_guid": "b1076dfc-b9ad-4769-8c92-a6c4dae69d19",
    "_uuid": "8f2839f25d086af736a60e9eeb907d3b93b6e0e5",
    "execution": {
     "iopub.execute_input": "2022-02-11T10:16:57.389121Z",
     "iopub.status.busy": "2022-02-11T10:16:57.387940Z",
     "iopub.status.idle": "2022-02-11T10:16:57.403762Z",
     "shell.execute_reply": "2022-02-11T10:16:57.404426Z",
     "shell.execute_reply.started": "2022-02-11T09:58:03.569861Z"
    },
    "papermill": {
     "duration": 0.044489,
     "end_time": "2022-02-11T10:16:57.404829",
     "exception": false,
     "start_time": "2022-02-11T10:16:57.360340",
     "status": "completed"
    },
    "tags": []
   },
   "outputs": [
    {
     "name": "stdout",
     "output_type": "stream",
     "text": [
      "/kaggle/input/jobathonfebruary2022/test_1zqHu22.csv\n",
      "/kaggle/input/jobathonfebruary2022/sample_submission_JPlpRcN.csv\n",
      "/kaggle/input/jobathonfebruary2022/train_0OECtn8.csv\n"
     ]
    }
   ],
   "source": [
    "# This Python 3 environment comes with many helpful analytics libraries installed\n",
    "# It is defined by the kaggle/python Docker image: https://github.com/kaggle/docker-python\n",
    "# For example, here's several helpful packages to load\n",
    "\n",
    "import numpy as np # linear algebra\n",
    "import pandas as pd # data processing, CSV file I/O (e.g. pd.read_csv)\n",
    "\n",
    "# Input data files are available in the read-only \"../input/\" directory\n",
    "# For example, running this (by clicking run or pressing Shift+Enter) will list all files under the input directory\n",
    "\n",
    "import os\n",
    "for dirname, _, filenames in os.walk('/kaggle/input'):\n",
    "    for filename in filenames:\n",
    "        print(os.path.join(dirname, filename))\n",
    "\n",
    "# You can write up to 20GB to the current directory (/kaggle/working/) that gets preserved as output when you create a version using \"Save & Run All\" \n",
    "# You can also write temporary files to /kaggle/temp/, but they won't be saved outside of the current session"
   ]
  },
  {
   "cell_type": "code",
   "execution_count": 2,
   "id": "0710914c",
   "metadata": {
    "execution": {
     "iopub.execute_input": "2022-02-11T10:16:57.449924Z",
     "iopub.status.busy": "2022-02-11T10:16:57.449131Z",
     "iopub.status.idle": "2022-02-11T10:16:57.451574Z",
     "shell.execute_reply": "2022-02-11T10:16:57.451107Z",
     "shell.execute_reply.started": "2022-02-11T09:58:03.604432Z"
    },
    "papermill": {
     "duration": 0.025804,
     "end_time": "2022-02-11T10:16:57.451711",
     "exception": false,
     "start_time": "2022-02-11T10:16:57.425907",
     "status": "completed"
    },
    "tags": []
   },
   "outputs": [],
   "source": [
    "pd.options.display.max_columns = 500\n",
    "pd.options.display.max_rows = 500"
   ]
  },
  {
   "cell_type": "code",
   "execution_count": 3,
   "id": "eb1e5999",
   "metadata": {
    "execution": {
     "iopub.execute_input": "2022-02-11T10:16:57.491556Z",
     "iopub.status.busy": "2022-02-11T10:16:57.490930Z",
     "iopub.status.idle": "2022-02-11T10:17:38.816830Z",
     "shell.execute_reply": "2022-02-11T10:17:38.815563Z",
     "shell.execute_reply.started": "2022-02-11T09:58:03.611436Z"
    },
    "papermill": {
     "duration": 41.346991,
     "end_time": "2022-02-11T10:17:38.817107",
     "exception": false,
     "start_time": "2022-02-11T10:16:57.470116",
     "status": "completed"
    },
    "tags": []
   },
   "outputs": [
    {
     "name": "stdout",
     "output_type": "stream",
     "text": [
      "Collecting pycaret\r\n",
      "  Downloading pycaret-2.3.6-py3-none-any.whl (301 kB)\r\n",
      "     |████████████████████████████████| 301 kB 596 kB/s            \r\n",
      "\u001b[?25hRequirement already satisfied: IPython in /opt/conda/lib/python3.7/site-packages (from pycaret) (7.30.1)\r\n",
      "Requirement already satisfied: Boruta in /opt/conda/lib/python3.7/site-packages (from pycaret) (0.3)\r\n",
      "Collecting scipy<=1.5.4\r\n",
      "  Downloading scipy-1.5.4-cp37-cp37m-manylinux1_x86_64.whl (25.9 MB)\r\n",
      "     |████████████████████████████████| 25.9 MB 4.0 kB/s            \r\n",
      "\u001b[?25hRequirement already satisfied: nltk in /opt/conda/lib/python3.7/site-packages (from pycaret) (3.2.4)\r\n",
      "Collecting mlflow\r\n",
      "  Downloading mlflow-1.23.1-py3-none-any.whl (15.6 MB)\r\n",
      "     |████████████████████████████████| 15.6 MB 60.0 MB/s            \r\n",
      "\u001b[?25hRequirement already satisfied: lightgbm>=2.3.1 in /opt/conda/lib/python3.7/site-packages (from pycaret) (3.3.1)\r\n",
      "Collecting gensim<4.0.0\r\n",
      "  Downloading gensim-3.8.3-cp37-cp37m-manylinux1_x86_64.whl (24.2 MB)\r\n",
      "     |████████████████████████████████| 24.2 MB 60.1 MB/s            \r\n",
      "\u001b[?25hRequirement already satisfied: pandas-profiling>=2.8.0 in /opt/conda/lib/python3.7/site-packages (from pycaret) (3.0.0)\r\n",
      "Requirement already satisfied: yellowbrick>=1.0.1 in /opt/conda/lib/python3.7/site-packages (from pycaret) (1.3.post1)\r\n",
      "Requirement already satisfied: pyLDAvis in /opt/conda/lib/python3.7/site-packages (from pycaret) (3.2.2)\r\n",
      "Requirement already satisfied: scikit-plot in /opt/conda/lib/python3.7/site-packages (from pycaret) (0.3.7)\r\n",
      "Requirement already satisfied: pandas in /opt/conda/lib/python3.7/site-packages (from pycaret) (1.3.5)\r\n",
      "Collecting spacy<2.4.0\r\n",
      "  Downloading spacy-2.3.7-cp37-cp37m-manylinux_2_17_x86_64.manylinux2014_x86_64.whl (10.4 MB)\r\n",
      "     |████████████████████████████████| 10.4 MB 60.4 MB/s            \r\n",
      "\u001b[?25hRequirement already satisfied: joblib in /opt/conda/lib/python3.7/site-packages (from pycaret) (1.1.0)\r\n",
      "Requirement already satisfied: seaborn in /opt/conda/lib/python3.7/site-packages (from pycaret) (0.11.2)\r\n",
      "Requirement already satisfied: ipywidgets in /opt/conda/lib/python3.7/site-packages (from pycaret) (7.6.5)\r\n",
      "Collecting pyod\r\n",
      "  Downloading pyod-0.9.7.tar.gz (114 kB)\r\n",
      "     |████████████████████████████████| 114 kB 72.0 MB/s            \r\n",
      "\u001b[?25h  Preparing metadata (setup.py) ... \u001b[?25l-\b \bdone\r\n",
      "\u001b[?25hRequirement already satisfied: cufflinks>=0.17.0 in /opt/conda/lib/python3.7/site-packages (from pycaret) (0.17.3)\r\n",
      "Requirement already satisfied: kmodes>=0.10.1 in /opt/conda/lib/python3.7/site-packages (from pycaret) (0.11.1)\r\n",
      "Collecting imbalanced-learn==0.7.0\r\n",
      "  Downloading imbalanced_learn-0.7.0-py3-none-any.whl (167 kB)\r\n",
      "     |████████████████████████████████| 167 kB 66.8 MB/s            \r\n",
      "\u001b[?25hRequirement already satisfied: scikit-learn==0.23.2 in /opt/conda/lib/python3.7/site-packages (from pycaret) (0.23.2)\r\n",
      "Requirement already satisfied: mlxtend>=0.17.0 in /opt/conda/lib/python3.7/site-packages (from pycaret) (0.19.0)\r\n",
      "Requirement already satisfied: matplotlib in /opt/conda/lib/python3.7/site-packages (from pycaret) (3.5.1)\r\n",
      "Requirement already satisfied: umap-learn in /opt/conda/lib/python3.7/site-packages (from pycaret) (0.5.2)\r\n",
      "Requirement already satisfied: plotly>=4.4.1 in /opt/conda/lib/python3.7/site-packages (from pycaret) (5.5.0)\r\n",
      "Requirement already satisfied: textblob in /opt/conda/lib/python3.7/site-packages (from pycaret) (0.17.1)\r\n",
      "Requirement already satisfied: wordcloud in /opt/conda/lib/python3.7/site-packages (from pycaret) (1.8.1)\r\n",
      "Collecting pyyaml<6.0.0\r\n",
      "  Downloading PyYAML-5.4.1-cp37-cp37m-manylinux1_x86_64.whl (636 kB)\r\n",
      "     |████████████████████████████████| 636 kB 63.7 MB/s            \r\n",
      "\u001b[?25hRequirement already satisfied: numpy>=1.13.3 in /opt/conda/lib/python3.7/site-packages (from imbalanced-learn==0.7.0->pycaret) (1.20.3)\r\n",
      "Requirement already satisfied: threadpoolctl>=2.0.0 in /opt/conda/lib/python3.7/site-packages (from scikit-learn==0.23.2->pycaret) (3.0.0)\r\n",
      "Requirement already satisfied: six>=1.9.0 in /opt/conda/lib/python3.7/site-packages (from cufflinks>=0.17.0->pycaret) (1.16.0)\r\n",
      "Requirement already satisfied: setuptools>=34.4.1 in /opt/conda/lib/python3.7/site-packages (from cufflinks>=0.17.0->pycaret) (59.5.0)\r\n",
      "Requirement already satisfied: colorlover>=0.2.1 in /opt/conda/lib/python3.7/site-packages (from cufflinks>=0.17.0->pycaret) (0.3.0)\r\n",
      "Requirement already satisfied: smart-open>=1.8.1 in /opt/conda/lib/python3.7/site-packages (from gensim<4.0.0->pycaret) (5.2.1)\r\n",
      "Requirement already satisfied: pygments in /opt/conda/lib/python3.7/site-packages (from IPython->pycaret) (2.10.0)\r\n",
      "Requirement already satisfied: backcall in /opt/conda/lib/python3.7/site-packages (from IPython->pycaret) (0.2.0)\r\n",
      "Requirement already satisfied: traitlets>=4.2 in /opt/conda/lib/python3.7/site-packages (from IPython->pycaret) (5.1.1)\r\n",
      "Requirement already satisfied: pickleshare in /opt/conda/lib/python3.7/site-packages (from IPython->pycaret) (0.7.5)\r\n",
      "Requirement already satisfied: jedi>=0.16 in /opt/conda/lib/python3.7/site-packages (from IPython->pycaret) (0.18.1)\r\n",
      "Requirement already satisfied: decorator in /opt/conda/lib/python3.7/site-packages (from IPython->pycaret) (5.1.0)\r\n",
      "Requirement already satisfied: matplotlib-inline in /opt/conda/lib/python3.7/site-packages (from IPython->pycaret) (0.1.3)\r\n",
      "Requirement already satisfied: prompt-toolkit!=3.0.0,!=3.0.1,<3.1.0,>=2.0.0 in /opt/conda/lib/python3.7/site-packages (from IPython->pycaret) (3.0.24)\r\n",
      "Requirement already satisfied: pexpect>4.3 in /opt/conda/lib/python3.7/site-packages (from IPython->pycaret) (4.8.0)\r\n",
      "Requirement already satisfied: nbformat>=4.2.0 in /opt/conda/lib/python3.7/site-packages (from ipywidgets->pycaret) (5.1.3)\r\n",
      "Requirement already satisfied: ipython-genutils~=0.2.0 in /opt/conda/lib/python3.7/site-packages (from ipywidgets->pycaret) (0.2.0)\r\n",
      "Requirement already satisfied: jupyterlab-widgets>=1.0.0 in /opt/conda/lib/python3.7/site-packages (from ipywidgets->pycaret) (1.0.2)\r\n",
      "Requirement already satisfied: ipykernel>=4.5.1 in /opt/conda/lib/python3.7/site-packages (from ipywidgets->pycaret) (6.6.0)\r\n",
      "Requirement already satisfied: widgetsnbextension~=3.5.0 in /opt/conda/lib/python3.7/site-packages (from ipywidgets->pycaret) (3.5.2)\r\n",
      "Requirement already satisfied: wheel in /opt/conda/lib/python3.7/site-packages (from lightgbm>=2.3.1->pycaret) (0.37.0)\r\n",
      "Requirement already satisfied: kiwisolver>=1.0.1 in /opt/conda/lib/python3.7/site-packages (from matplotlib->pycaret) (1.3.2)\r\n",
      "Requirement already satisfied: cycler>=0.10 in /opt/conda/lib/python3.7/site-packages (from matplotlib->pycaret) (0.11.0)\r\n",
      "Requirement already satisfied: packaging>=20.0 in /opt/conda/lib/python3.7/site-packages (from matplotlib->pycaret) (21.3)\r\n",
      "Requirement already satisfied: fonttools>=4.22.0 in /opt/conda/lib/python3.7/site-packages (from matplotlib->pycaret) (4.28.4)\r\n",
      "Requirement already satisfied: pyparsing>=2.2.1 in /opt/conda/lib/python3.7/site-packages (from matplotlib->pycaret) (3.0.6)\r\n",
      "Requirement already satisfied: pillow>=6.2.0 in /opt/conda/lib/python3.7/site-packages (from matplotlib->pycaret) (8.2.0)\r\n",
      "Requirement already satisfied: python-dateutil>=2.7 in /opt/conda/lib/python3.7/site-packages (from matplotlib->pycaret) (2.8.2)\r\n",
      "Requirement already satisfied: pytz>=2017.3 in /opt/conda/lib/python3.7/site-packages (from pandas->pycaret) (2021.3)\r\n",
      "Requirement already satisfied: visions[type_image_path]==0.7.1 in /opt/conda/lib/python3.7/site-packages (from pandas-profiling>=2.8.0->pycaret) (0.7.1)\r\n",
      "Requirement already satisfied: tangled-up-in-unicode==0.1.0 in /opt/conda/lib/python3.7/site-packages (from pandas-profiling>=2.8.0->pycaret) (0.1.0)\r\n",
      "Requirement already satisfied: htmlmin>=0.1.12 in /opt/conda/lib/python3.7/site-packages (from pandas-profiling>=2.8.0->pycaret) (0.1.12)\r\n",
      "Requirement already satisfied: missingno>=0.4.2 in /opt/conda/lib/python3.7/site-packages (from pandas-profiling>=2.8.0->pycaret) (0.4.2)\r\n",
      "Requirement already satisfied: jinja2>=2.11.1 in /opt/conda/lib/python3.7/site-packages (from pandas-profiling>=2.8.0->pycaret) (3.0.3)\r\n",
      "Requirement already satisfied: phik>=0.11.1 in /opt/conda/lib/python3.7/site-packages (from pandas-profiling>=2.8.0->pycaret) (0.12.0)\r\n",
      "Requirement already satisfied: pydantic>=1.8.1 in /opt/conda/lib/python3.7/site-packages (from pandas-profiling>=2.8.0->pycaret) (1.8.2)\r\n",
      "Requirement already satisfied: tqdm>=4.48.2 in /opt/conda/lib/python3.7/site-packages (from pandas-profiling>=2.8.0->pycaret) (4.62.3)\r\n",
      "Requirement already satisfied: requests>=2.24.0 in /opt/conda/lib/python3.7/site-packages (from pandas-profiling>=2.8.0->pycaret) (2.26.0)\r\n",
      "Requirement already satisfied: networkx>=2.4 in /opt/conda/lib/python3.7/site-packages (from visions[type_image_path]==0.7.1->pandas-profiling>=2.8.0->pycaret) (2.6.3)\r\n",
      "Requirement already satisfied: attrs>=19.3.0 in /opt/conda/lib/python3.7/site-packages (from visions[type_image_path]==0.7.1->pandas-profiling>=2.8.0->pycaret) (21.2.0)\r\n",
      "Requirement already satisfied: multimethod==1.4 in /opt/conda/lib/python3.7/site-packages (from visions[type_image_path]==0.7.1->pandas-profiling>=2.8.0->pycaret) (1.4)\r\n",
      "Requirement already satisfied: bottleneck in /opt/conda/lib/python3.7/site-packages (from visions[type_image_path]==0.7.1->pandas-profiling>=2.8.0->pycaret) (1.3.2)\r\n",
      "Requirement already satisfied: imagehash in /opt/conda/lib/python3.7/site-packages (from visions[type_image_path]==0.7.1->pandas-profiling>=2.8.0->pycaret) (4.2.1)\r\n",
      "Requirement already satisfied: tenacity>=6.2.0 in /opt/conda/lib/python3.7/site-packages (from plotly>=4.4.1->pycaret) (8.0.1)\r\n",
      "Collecting plac<1.2.0,>=0.9.6\r\n",
      "  Downloading plac-1.1.3-py2.py3-none-any.whl (20 kB)\r\n",
      "Requirement already satisfied: blis<0.8.0,>=0.4.0 in /opt/conda/lib/python3.7/site-packages (from spacy<2.4.0->pycaret) (0.7.5)\r\n",
      "Requirement already satisfied: wasabi<1.1.0,>=0.4.0 in /opt/conda/lib/python3.7/site-packages (from spacy<2.4.0->pycaret) (0.9.0)\r\n",
      "Requirement already satisfied: murmurhash<1.1.0,>=0.28.0 in /opt/conda/lib/python3.7/site-packages (from spacy<2.4.0->pycaret) (1.0.6)\r\n",
      "Collecting srsly<1.1.0,>=1.0.2\r\n",
      "  Downloading srsly-1.0.5-cp37-cp37m-manylinux2014_x86_64.whl (184 kB)\r\n",
      "     |████████████████████████████████| 184 kB 52.2 MB/s            \r\n",
      "\u001b[?25hRequirement already satisfied: preshed<3.1.0,>=3.0.2 in /opt/conda/lib/python3.7/site-packages (from spacy<2.4.0->pycaret) (3.0.6)\r\n",
      "Requirement already satisfied: cymem<2.1.0,>=2.0.2 in /opt/conda/lib/python3.7/site-packages (from spacy<2.4.0->pycaret) (2.0.6)\r\n",
      "Collecting catalogue<1.1.0,>=0.0.7\r\n",
      "  Downloading catalogue-1.0.0-py2.py3-none-any.whl (7.7 kB)\r\n",
      "Collecting thinc<7.5.0,>=7.4.1\r\n",
      "  Downloading thinc-7.4.5-cp37-cp37m-manylinux2014_x86_64.whl (1.0 MB)\r\n",
      "     |████████████████████████████████| 1.0 MB 62.3 MB/s            \r\n",
      "\u001b[?25hCollecting numpy>=1.13.3\r\n",
      "  Downloading numpy-1.19.5-cp37-cp37m-manylinux2010_x86_64.whl (14.8 MB)\r\n",
      "     |████████████████████████████████| 14.8 MB 37.7 MB/s            \r\n",
      "\u001b[?25hCollecting querystring-parser\r\n",
      "  Downloading querystring_parser-1.2.4-py2.py3-none-any.whl (7.9 kB)\r\n",
      "Requirement already satisfied: alembic in /opt/conda/lib/python3.7/site-packages (from mlflow->pycaret) (1.7.6)\r\n",
      "Requirement already satisfied: click>=7.0 in /opt/conda/lib/python3.7/site-packages (from mlflow->pycaret) (8.0.3)\r\n",
      "Requirement already satisfied: Flask in /opt/conda/lib/python3.7/site-packages (from mlflow->pycaret) (2.0.2)\r\n",
      "Requirement already satisfied: entrypoints in /opt/conda/lib/python3.7/site-packages (from mlflow->pycaret) (0.3)\r\n",
      "Requirement already satisfied: cloudpickle in /opt/conda/lib/python3.7/site-packages (from mlflow->pycaret) (2.0.0)\r\n",
      "Requirement already satisfied: sqlparse>=0.3.1 in /opt/conda/lib/python3.7/site-packages (from mlflow->pycaret) (0.4.2)\r\n",
      "Requirement already satisfied: importlib-metadata!=4.7.0,>=3.7.0 in /opt/conda/lib/python3.7/site-packages (from mlflow->pycaret) (4.10.1)\r\n",
      "Collecting databricks-cli>=0.8.7\r\n",
      "  Downloading databricks-cli-0.16.4.tar.gz (58 kB)\r\n",
      "     |████████████████████████████████| 58 kB 4.0 MB/s             \r\n",
      "\u001b[?25h  Preparing metadata (setup.py) ... \u001b[?25l-\b \bdone\r\n",
      "\u001b[?25hCollecting gunicorn\r\n",
      "  Downloading gunicorn-20.1.0-py3-none-any.whl (79 kB)\r\n",
      "     |████████████████████████████████| 79 kB 6.1 MB/s             \r\n",
      "\u001b[?25hRequirement already satisfied: docker>=4.0.0 in /opt/conda/lib/python3.7/site-packages (from mlflow->pycaret) (5.0.3)\r\n",
      "Collecting prometheus-flask-exporter\r\n",
      "  Downloading prometheus_flask_exporter-0.18.7-py3-none-any.whl (17 kB)\r\n",
      "Requirement already satisfied: gitpython>=2.1.0 in /opt/conda/lib/python3.7/site-packages (from mlflow->pycaret) (3.1.24)\r\n",
      "Requirement already satisfied: sqlalchemy in /opt/conda/lib/python3.7/site-packages (from mlflow->pycaret) (1.4.28)\r\n",
      "Requirement already satisfied: protobuf>=3.7.0 in /opt/conda/lib/python3.7/site-packages (from mlflow->pycaret) (3.19.1)\r\n",
      "Requirement already satisfied: numexpr in /opt/conda/lib/python3.7/site-packages (from pyLDAvis->pycaret) (2.8.1)\r\n",
      "Requirement already satisfied: funcy in /opt/conda/lib/python3.7/site-packages (from pyLDAvis->pycaret) (1.17)\r\n",
      "Requirement already satisfied: future in /opt/conda/lib/python3.7/site-packages (from pyLDAvis->pycaret) (0.18.2)\r\n",
      "Requirement already satisfied: numba>=0.35 in /opt/conda/lib/python3.7/site-packages (from pyod->pycaret) (0.54.1)\r\n",
      "Requirement already satisfied: statsmodels in /opt/conda/lib/python3.7/site-packages (from pyod->pycaret) (0.13.1)\r\n",
      "Requirement already satisfied: pynndescent>=0.5 in /opt/conda/lib/python3.7/site-packages (from umap-learn->pycaret) (0.5.6)\r\n",
      "Requirement already satisfied: tabulate>=0.7.7 in /opt/conda/lib/python3.7/site-packages (from databricks-cli>=0.8.7->mlflow->pycaret) (0.8.9)\r\n",
      "Requirement already satisfied: websocket-client>=0.32.0 in /opt/conda/lib/python3.7/site-packages (from docker>=4.0.0->mlflow->pycaret) (1.2.3)\r\n",
      "Requirement already satisfied: gitdb<5,>=4.0.1 in /opt/conda/lib/python3.7/site-packages (from gitpython>=2.1.0->mlflow->pycaret) (4.0.9)\r\n",
      "Requirement already satisfied: typing-extensions>=3.7.4.3 in /opt/conda/lib/python3.7/site-packages (from gitpython>=2.1.0->mlflow->pycaret) (4.0.1)\r\n",
      "Requirement already satisfied: zipp>=0.5 in /opt/conda/lib/python3.7/site-packages (from importlib-metadata!=4.7.0,>=3.7.0->mlflow->pycaret) (3.6.0)\r\n",
      "Requirement already satisfied: argcomplete>=1.12.3 in /opt/conda/lib/python3.7/site-packages (from ipykernel>=4.5.1->ipywidgets->pycaret) (1.12.3)\r\n",
      "Requirement already satisfied: debugpy<2.0,>=1.0.0 in /opt/conda/lib/python3.7/site-packages (from ipykernel>=4.5.1->ipywidgets->pycaret) (1.5.1)\r\n",
      "Requirement already satisfied: tornado<7.0,>=4.2 in /opt/conda/lib/python3.7/site-packages (from ipykernel>=4.5.1->ipywidgets->pycaret) (6.1)\r\n",
      "Requirement already satisfied: jupyter-client<8.0 in /opt/conda/lib/python3.7/site-packages (from ipykernel>=4.5.1->ipywidgets->pycaret) (7.1.0)\r\n",
      "Requirement already satisfied: parso<0.9.0,>=0.8.0 in /opt/conda/lib/python3.7/site-packages (from jedi>=0.16->IPython->pycaret) (0.8.3)\r\n",
      "Requirement already satisfied: MarkupSafe>=2.0 in /opt/conda/lib/python3.7/site-packages (from jinja2>=2.11.1->pandas-profiling>=2.8.0->pycaret) (2.0.1)\r\n",
      "Requirement already satisfied: jsonschema!=2.5.0,>=2.4 in /opt/conda/lib/python3.7/site-packages (from nbformat>=4.2.0->ipywidgets->pycaret) (4.3.1)\r\n",
      "Requirement already satisfied: jupyter-core in /opt/conda/lib/python3.7/site-packages (from nbformat>=4.2.0->ipywidgets->pycaret) (4.9.1)\r\n",
      "Requirement already satisfied: llvmlite<0.38,>=0.37.0rc1 in /opt/conda/lib/python3.7/site-packages (from numba>=0.35->pyod->pycaret) (0.37.0)\r\n",
      "Requirement already satisfied: ptyprocess>=0.5 in /opt/conda/lib/python3.7/site-packages (from pexpect>4.3->IPython->pycaret) (0.7.0)\r\n",
      "Requirement already satisfied: wcwidth in /opt/conda/lib/python3.7/site-packages (from prompt-toolkit!=3.0.0,!=3.0.1,<3.1.0,>=2.0.0->IPython->pycaret) (0.2.5)\r\n",
      "Requirement already satisfied: idna<4,>=2.5 in /opt/conda/lib/python3.7/site-packages (from requests>=2.24.0->pandas-profiling>=2.8.0->pycaret) (3.1)\r\n",
      "Requirement already satisfied: charset-normalizer~=2.0.0 in /opt/conda/lib/python3.7/site-packages (from requests>=2.24.0->pandas-profiling>=2.8.0->pycaret) (2.0.9)\r\n",
      "Requirement already satisfied: urllib3<1.27,>=1.21.1 in /opt/conda/lib/python3.7/site-packages (from requests>=2.24.0->pandas-profiling>=2.8.0->pycaret) (1.26.7)\r\n",
      "Requirement already satisfied: certifi>=2017.4.17 in /opt/conda/lib/python3.7/site-packages (from requests>=2.24.0->pandas-profiling>=2.8.0->pycaret) (2021.10.8)\r\n",
      "Requirement already satisfied: notebook>=4.4.1 in /opt/conda/lib/python3.7/site-packages (from widgetsnbextension~=3.5.0->ipywidgets->pycaret) (6.4.6)\r\n",
      "Requirement already satisfied: Mako in /opt/conda/lib/python3.7/site-packages (from alembic->mlflow->pycaret) (1.1.6)\r\n",
      "Requirement already satisfied: importlib-resources in /opt/conda/lib/python3.7/site-packages (from alembic->mlflow->pycaret) (5.4.0)\r\n",
      "Requirement already satisfied: greenlet!=0.4.17 in /opt/conda/lib/python3.7/site-packages (from sqlalchemy->mlflow->pycaret) (1.1.2)\r\n",
      "Requirement already satisfied: Werkzeug>=2.0 in /opt/conda/lib/python3.7/site-packages (from Flask->mlflow->pycaret) (2.0.2)\r\n",
      "Requirement already satisfied: itsdangerous>=2.0 in /opt/conda/lib/python3.7/site-packages (from Flask->mlflow->pycaret) (2.0.1)\r\n",
      "Requirement already satisfied: prometheus-client in /opt/conda/lib/python3.7/site-packages (from prometheus-flask-exporter->mlflow->pycaret) (0.12.0)\r\n",
      "Requirement already satisfied: patsy>=0.5.2 in /opt/conda/lib/python3.7/site-packages (from statsmodels->pyod->pycaret) (0.5.2)\r\n",
      "Requirement already satisfied: smmap<6,>=3.0.1 in /opt/conda/lib/python3.7/site-packages (from gitdb<5,>=4.0.1->gitpython>=2.1.0->mlflow->pycaret) (3.0.5)\r\n",
      "Requirement already satisfied: pyrsistent!=0.17.0,!=0.17.1,!=0.17.2,>=0.14.0 in /opt/conda/lib/python3.7/site-packages (from jsonschema!=2.5.0,>=2.4->nbformat>=4.2.0->ipywidgets->pycaret) (0.18.0)\r\n",
      "Requirement already satisfied: nest-asyncio>=1.5 in /opt/conda/lib/python3.7/site-packages (from jupyter-client<8.0->ipykernel>=4.5.1->ipywidgets->pycaret) (1.5.4)\r\n",
      "Requirement already satisfied: pyzmq>=13 in /opt/conda/lib/python3.7/site-packages (from jupyter-client<8.0->ipykernel>=4.5.1->ipywidgets->pycaret) (22.3.0)\r\n",
      "Requirement already satisfied: argon2-cffi in /opt/conda/lib/python3.7/site-packages (from notebook>=4.4.1->widgetsnbextension~=3.5.0->ipywidgets->pycaret) (21.1.0)\r\n",
      "Requirement already satisfied: Send2Trash>=1.8.0 in /opt/conda/lib/python3.7/site-packages (from notebook>=4.4.1->widgetsnbextension~=3.5.0->ipywidgets->pycaret) (1.8.0)\r\n",
      "Requirement already satisfied: nbconvert in /opt/conda/lib/python3.7/site-packages (from notebook>=4.4.1->widgetsnbextension~=3.5.0->ipywidgets->pycaret) (6.3.0)\r\n",
      "Requirement already satisfied: terminado>=0.8.3 in /opt/conda/lib/python3.7/site-packages (from notebook>=4.4.1->widgetsnbextension~=3.5.0->ipywidgets->pycaret) (0.12.1)\r\n",
      "Requirement already satisfied: PyWavelets in /opt/conda/lib/python3.7/site-packages (from imagehash->visions[type_image_path]==0.7.1->pandas-profiling>=2.8.0->pycaret) (1.2.0)\r\n",
      "Requirement already satisfied: cffi>=1.0.0 in /opt/conda/lib/python3.7/site-packages (from argon2-cffi->notebook>=4.4.1->widgetsnbextension~=3.5.0->ipywidgets->pycaret) (1.15.0)\r\n",
      "Requirement already satisfied: testpath in /opt/conda/lib/python3.7/site-packages (from nbconvert->notebook>=4.4.1->widgetsnbextension~=3.5.0->ipywidgets->pycaret) (0.5.0)\r\n",
      "Requirement already satisfied: mistune<2,>=0.8.1 in /opt/conda/lib/python3.7/site-packages (from nbconvert->notebook>=4.4.1->widgetsnbextension~=3.5.0->ipywidgets->pycaret) (0.8.4)\r\n",
      "Requirement already satisfied: bleach in /opt/conda/lib/python3.7/site-packages (from nbconvert->notebook>=4.4.1->widgetsnbextension~=3.5.0->ipywidgets->pycaret) (4.1.0)\r\n",
      "Requirement already satisfied: pandocfilters>=1.4.1 in /opt/conda/lib/python3.7/site-packages (from nbconvert->notebook>=4.4.1->widgetsnbextension~=3.5.0->ipywidgets->pycaret) (1.5.0)\r\n",
      "Requirement already satisfied: nbclient<0.6.0,>=0.5.0 in /opt/conda/lib/python3.7/site-packages (from nbconvert->notebook>=4.4.1->widgetsnbextension~=3.5.0->ipywidgets->pycaret) (0.5.9)\r\n",
      "Requirement already satisfied: defusedxml in /opt/conda/lib/python3.7/site-packages (from nbconvert->notebook>=4.4.1->widgetsnbextension~=3.5.0->ipywidgets->pycaret) (0.7.1)\r\n",
      "Requirement already satisfied: jupyterlab-pygments in /opt/conda/lib/python3.7/site-packages (from nbconvert->notebook>=4.4.1->widgetsnbextension~=3.5.0->ipywidgets->pycaret) (0.1.2)\r\n",
      "Requirement already satisfied: pycparser in /opt/conda/lib/python3.7/site-packages (from cffi>=1.0.0->argon2-cffi->notebook>=4.4.1->widgetsnbextension~=3.5.0->ipywidgets->pycaret) (2.21)\r\n",
      "Requirement already satisfied: webencodings in /opt/conda/lib/python3.7/site-packages (from bleach->nbconvert->notebook>=4.4.1->widgetsnbextension~=3.5.0->ipywidgets->pycaret) (0.5.1)\r\n",
      "Building wheels for collected packages: pyod, databricks-cli\r\n",
      "  Building wheel for pyod (setup.py) ... \u001b[?25l-\b \b\\\b \bdone\r\n",
      "\u001b[?25h  Created wheel for pyod: filename=pyod-0.9.7-py3-none-any.whl size=136277 sha256=c3c1affcec381de14a93a9298198bcfd17cb8ce6d46fb4800d91aa80d261a98c\r\n",
      "  Stored in directory: /root/.cache/pip/wheels/ce/14/ae/60cbb36511e59bc12f8f0883805f586db3b315972b54865d33\r\n",
      "  Building wheel for databricks-cli (setup.py) ... \u001b[?25l-\b \b\\\b \bdone\r\n",
      "\u001b[?25h  Created wheel for databricks-cli: filename=databricks_cli-0.16.4-py3-none-any.whl size=106877 sha256=24c9abd948b1dcbf9bc894d01bc2a73ae57232da551d1ffbc31a01135d8fc562\r\n",
      "  Stored in directory: /root/.cache/pip/wheels/a2/a1/6d/fa1d22ea25ed8593887437fe1c7e00f6ef307fc240ccd4dc5c\r\n",
      "Successfully built pyod databricks-cli\r\n",
      "Installing collected packages: numpy, scipy, srsly, plac, catalogue, thinc, querystring-parser, pyyaml, prometheus-flask-exporter, gunicorn, databricks-cli, spacy, pyod, mlflow, imbalanced-learn, gensim, pycaret\r\n",
      "  Attempting uninstall: numpy\r\n",
      "    Found existing installation: numpy 1.20.3\r\n",
      "    Uninstalling numpy-1.20.3:\r\n",
      "      Successfully uninstalled numpy-1.20.3\r\n",
      "  Attempting uninstall: scipy\r\n",
      "    Found existing installation: scipy 1.7.3\r\n",
      "    Uninstalling scipy-1.7.3:\r\n",
      "      Successfully uninstalled scipy-1.7.3\r\n",
      "  Attempting uninstall: srsly\r\n",
      "    Found existing installation: srsly 2.4.2\r\n",
      "    Uninstalling srsly-2.4.2:\r\n",
      "      Successfully uninstalled srsly-2.4.2\r\n",
      "  Attempting uninstall: catalogue\r\n",
      "    Found existing installation: catalogue 2.0.6\r\n",
      "    Uninstalling catalogue-2.0.6:\r\n",
      "      Successfully uninstalled catalogue-2.0.6\r\n",
      "  Attempting uninstall: thinc\r\n",
      "    Found existing installation: thinc 8.0.13\r\n",
      "    Uninstalling thinc-8.0.13:\r\n",
      "      Successfully uninstalled thinc-8.0.13\r\n",
      "  Attempting uninstall: pyyaml\r\n",
      "    Found existing installation: PyYAML 6.0\r\n",
      "    Uninstalling PyYAML-6.0:\r\n",
      "      Successfully uninstalled PyYAML-6.0\r\n",
      "  Attempting uninstall: spacy\r\n",
      "    Found existing installation: spacy 3.2.1\r\n",
      "    Uninstalling spacy-3.2.1:\r\n",
      "      Successfully uninstalled spacy-3.2.1\r\n",
      "  Attempting uninstall: imbalanced-learn\r\n",
      "    Found existing installation: imbalanced-learn 0.9.0\r\n",
      "    Uninstalling imbalanced-learn-0.9.0:\r\n",
      "      Successfully uninstalled imbalanced-learn-0.9.0\r\n",
      "  Attempting uninstall: gensim\r\n",
      "    Found existing installation: gensim 4.0.1\r\n",
      "    Uninstalling gensim-4.0.1:\r\n",
      "      Successfully uninstalled gensim-4.0.1\r\n",
      "\u001b[31mERROR: pip's dependency resolver does not currently take into account all the packages that are installed. This behaviour is the source of the following dependency conflicts.\r\n",
      "tensorflow-io 0.21.0 requires tensorflow-io-gcs-filesystem==0.21.0, which is not installed.\r\n",
      "explainable-ai-sdk 1.3.2 requires xai-image-widget, which is not installed.\r\n",
      "beatrix-jupyterlab 3.1.6 requires google-cloud-bigquery-storage, which is not installed.\r\n",
      "tfx-bsl 1.5.0 requires absl-py<0.13,>=0.9, but you have absl-py 0.15.0 which is incompatible.\r\n",
      "tfx-bsl 1.5.0 requires pyarrow<6,>=1, but you have pyarrow 6.0.1 which is incompatible.\r\n",
      "tfx-bsl 1.5.0 requires tensorflow!=2.0.*,!=2.1.*,!=2.2.*,!=2.3.*,!=2.4.*,!=2.5.*,!=2.6.*,<3,>=1.15.2, but you have tensorflow 2.6.2 which is incompatible.\r\n",
      "tensorflow 2.6.2 requires six~=1.15.0, but you have six 1.16.0 which is incompatible.\r\n",
      "tensorflow 2.6.2 requires typing-extensions~=3.7.4, but you have typing-extensions 4.0.1 which is incompatible.\r\n",
      "tensorflow 2.6.2 requires wrapt~=1.12.1, but you have wrapt 1.13.3 which is incompatible.\r\n",
      "tensorflow-transform 1.5.0 requires absl-py<0.13,>=0.9, but you have absl-py 0.15.0 which is incompatible.\r\n",
      "tensorflow-transform 1.5.0 requires pyarrow<6,>=1, but you have pyarrow 6.0.1 which is incompatible.\r\n",
      "tensorflow-transform 1.5.0 requires tensorflow!=2.0.*,!=2.1.*,!=2.2.*,!=2.3.*,!=2.4.*,!=2.5.*,!=2.6.*,<2.8,>=1.15.2, but you have tensorflow 2.6.2 which is incompatible.\r\n",
      "tensorflow-serving-api 2.7.0 requires tensorflow<3,>=2.7.0, but you have tensorflow 2.6.2 which is incompatible.\r\n",
      "scattertext 0.1.5 requires gensim>=4.0.0, but you have gensim 3.8.3 which is incompatible.\r\n",
      "pdpbox 0.2.1 requires matplotlib==3.1.1, but you have matplotlib 3.5.1 which is incompatible.\r\n",
      "featuretools 1.4.1 requires numpy>=1.21.0, but you have numpy 1.19.5 which is incompatible.\r\n",
      "en-core-web-sm 3.2.0 requires spacy<3.3.0,>=3.2.0, but you have spacy 2.3.7 which is incompatible.\r\n",
      "en-core-web-lg 3.2.0 requires spacy<3.3.0,>=3.2.0, but you have spacy 2.3.7 which is incompatible.\r\n",
      "arviz 0.11.4 requires typing-extensions<4,>=3.7.4.3, but you have typing-extensions 4.0.1 which is incompatible.\r\n",
      "apache-beam 2.34.0 requires dill<0.3.2,>=0.3.1.1, but you have dill 0.3.4 which is incompatible.\r\n",
      "apache-beam 2.34.0 requires httplib2<0.20.0,>=0.8, but you have httplib2 0.20.2 which is incompatible.\r\n",
      "apache-beam 2.34.0 requires pyarrow<6.0.0,>=0.15.1, but you have pyarrow 6.0.1 which is incompatible.\r\n",
      "apache-beam 2.34.0 requires typing-extensions<4,>=3.7.0, but you have typing-extensions 4.0.1 which is incompatible.\u001b[0m\r\n",
      "Successfully installed catalogue-1.0.0 databricks-cli-0.16.4 gensim-3.8.3 gunicorn-20.1.0 imbalanced-learn-0.7.0 mlflow-1.23.1 numpy-1.19.5 plac-1.1.3 prometheus-flask-exporter-0.18.7 pycaret-2.3.6 pyod-0.9.7 pyyaml-5.4.1 querystring-parser-1.2.4 scipy-1.5.4 spacy-2.3.7 srsly-1.0.5 thinc-7.4.5\r\n",
      "\u001b[33mWARNING: Running pip as the 'root' user can result in broken permissions and conflicting behaviour with the system package manager. It is recommended to use a virtual environment instead: https://pip.pypa.io/warnings/venv\u001b[0m\r\n"
     ]
    }
   ],
   "source": [
    "!pip install pycaret"
   ]
  },
  {
   "cell_type": "code",
   "execution_count": 4,
   "id": "d349b76f",
   "metadata": {
    "execution": {
     "iopub.execute_input": "2022-02-11T10:17:39.014430Z",
     "iopub.status.busy": "2022-02-11T10:17:39.013423Z",
     "iopub.status.idle": "2022-02-11T10:17:39.709919Z",
     "shell.execute_reply": "2022-02-11T10:17:39.709344Z",
     "shell.execute_reply.started": "2022-02-11T09:58:51.961484Z"
    },
    "papermill": {
     "duration": 0.795647,
     "end_time": "2022-02-11T10:17:39.710066",
     "exception": false,
     "start_time": "2022-02-11T10:17:38.914419",
     "status": "completed"
    },
    "tags": []
   },
   "outputs": [],
   "source": [
    "#import modules\n",
    "import matplotlib.pyplot as plt # for plotting graphs\n",
    "import seaborn as sns # for plotting graphs\n",
    "from sklearn.preprocessing import LabelEncoder\n",
    "%matplotlib inline"
   ]
  },
  {
   "cell_type": "code",
   "execution_count": 5,
   "id": "c466a0dd",
   "metadata": {
    "execution": {
     "iopub.execute_input": "2022-02-11T10:17:39.886318Z",
     "iopub.status.busy": "2022-02-11T10:17:39.885370Z",
     "iopub.status.idle": "2022-02-11T10:17:40.117512Z",
     "shell.execute_reply": "2022-02-11T10:17:40.118439Z",
     "shell.execute_reply.started": "2022-02-11T09:58:52.627735Z"
    },
    "papermill": {
     "duration": 0.322051,
     "end_time": "2022-02-11T10:17:40.118624",
     "exception": false,
     "start_time": "2022-02-11T10:17:39.796573",
     "status": "completed"
    },
    "tags": []
   },
   "outputs": [],
   "source": [
    "train = pd.read_csv('../input/jobathonfebruary2022/train_0OECtn8.csv')\n",
    "test = pd.read_csv('../input/jobathonfebruary2022/test_1zqHu22.csv')\n",
    "subm = pd.read_csv('../input/jobathonfebruary2022/sample_submission_JPlpRcN.csv')"
   ]
  },
  {
   "cell_type": "code",
   "execution_count": 6,
   "id": "38700d6f",
   "metadata": {
    "execution": {
     "iopub.execute_input": "2022-02-11T10:17:40.298100Z",
     "iopub.status.busy": "2022-02-11T10:17:40.297131Z",
     "iopub.status.idle": "2022-02-11T10:17:40.302541Z",
     "shell.execute_reply": "2022-02-11T10:17:40.303251Z",
     "shell.execute_reply.started": "2022-02-11T09:58:52.803624Z"
    },
    "papermill": {
     "duration": 0.097164,
     "end_time": "2022-02-11T10:17:40.303475",
     "exception": false,
     "start_time": "2022-02-11T10:17:40.206311",
     "status": "completed"
    },
    "tags": []
   },
   "outputs": [
    {
     "name": "stdout",
     "output_type": "stream",
     "text": [
      "(89197, 10)\n",
      "(11121, 9)\n"
     ]
    }
   ],
   "source": [
    "print(train.shape)\n",
    "print(test.shape)"
   ]
  },
  {
   "cell_type": "code",
   "execution_count": 7,
   "id": "657f123d",
   "metadata": {
    "execution": {
     "iopub.execute_input": "2022-02-11T10:17:40.481238Z",
     "iopub.status.busy": "2022-02-11T10:17:40.480274Z",
     "iopub.status.idle": "2022-02-11T10:17:40.485437Z",
     "shell.execute_reply": "2022-02-11T10:17:40.486070Z",
     "shell.execute_reply.started": "2022-02-11T09:58:52.810213Z"
    },
    "papermill": {
     "duration": 0.09539,
     "end_time": "2022-02-11T10:17:40.486249",
     "exception": false,
     "start_time": "2022-02-11T10:17:40.390859",
     "status": "completed"
    },
    "tags": []
   },
   "outputs": [],
   "source": [
    "def preproc(train,test):\n",
    "    label_encoder = LabelEncoder()\n",
    "\n",
    "    train['gender']= label_encoder.fit_transform(train['gender'])\n",
    "    test['gender']= label_encoder.transform(test['gender'])\n",
    "    \n",
    "    #ordinal encoding of profession\n",
    "    prof_map = {'Other':0,'Student':1,'Working Professional':2}\n",
    "    train['profession'] = train['profession'].map(prof_map)\n",
    "    test['profession'] = test['profession'].map(prof_map)"
   ]
  },
  {
   "cell_type": "code",
   "execution_count": 8,
   "id": "5bdb5521",
   "metadata": {
    "execution": {
     "iopub.execute_input": "2022-02-11T10:17:40.669536Z",
     "iopub.status.busy": "2022-02-11T10:17:40.668852Z",
     "iopub.status.idle": "2022-02-11T10:17:40.703374Z",
     "shell.execute_reply": "2022-02-11T10:17:40.703841Z",
     "shell.execute_reply.started": "2022-02-11T09:58:52.822524Z"
    },
    "papermill": {
     "duration": 0.131073,
     "end_time": "2022-02-11T10:17:40.704021",
     "exception": false,
     "start_time": "2022-02-11T10:17:40.572948",
     "status": "completed"
    },
    "tags": []
   },
   "outputs": [],
   "source": [
    "preproc(train,test)"
   ]
  },
  {
   "cell_type": "code",
   "execution_count": 9,
   "id": "4d41a8f3",
   "metadata": {
    "execution": {
     "iopub.execute_input": "2022-02-11T10:17:40.883647Z",
     "iopub.status.busy": "2022-02-11T10:17:40.883042Z",
     "iopub.status.idle": "2022-02-11T10:17:40.885001Z",
     "shell.execute_reply": "2022-02-11T10:17:40.885420Z",
     "shell.execute_reply.started": "2022-02-11T09:58:52.871649Z"
    },
    "papermill": {
     "duration": 0.094454,
     "end_time": "2022-02-11T10:17:40.885585",
     "exception": false,
     "start_time": "2022-02-11T10:17:40.791131",
     "status": "completed"
    },
    "tags": []
   },
   "outputs": [],
   "source": [
    "targetcol = 'engagement_score'\n",
    "target = train[targetcol]"
   ]
  },
  {
   "cell_type": "code",
   "execution_count": 10,
   "id": "d0cc6f06",
   "metadata": {
    "execution": {
     "iopub.execute_input": "2022-02-11T10:17:41.065960Z",
     "iopub.status.busy": "2022-02-11T10:17:41.065013Z",
     "iopub.status.idle": "2022-02-11T10:17:41.071581Z",
     "shell.execute_reply": "2022-02-11T10:17:41.071064Z",
     "shell.execute_reply.started": "2022-02-11T09:59:09.043791Z"
    },
    "papermill": {
     "duration": 0.098037,
     "end_time": "2022-02-11T10:17:41.071713",
     "exception": false,
     "start_time": "2022-02-11T10:17:40.973676",
     "status": "completed"
    },
    "tags": []
   },
   "outputs": [
    {
     "name": "stdout",
     "output_type": "stream",
     "text": [
      "6\n",
      "['age', 'gender', 'profession', 'followers', 'views', 'engagement_score']\n"
     ]
    }
   ],
   "source": [
    "exclude_cols =['row_id','user_id','video_id','category_id']\n",
    "features =[col for col in train.columns if col not in exclude_cols]\n",
    "print(len(features))\n",
    "print(features)\n",
    "features_excl_target = [col for col in features if col!=targetcol]"
   ]
  },
  {
   "cell_type": "code",
   "execution_count": 11,
   "id": "9db8be03",
   "metadata": {
    "execution": {
     "iopub.execute_input": "2022-02-11T10:17:41.253555Z",
     "iopub.status.busy": "2022-02-11T10:17:41.252639Z",
     "iopub.status.idle": "2022-02-11T10:17:41.255726Z",
     "shell.execute_reply": "2022-02-11T10:17:41.256216Z",
     "shell.execute_reply.started": "2022-02-11T09:59:24.425378Z"
    },
    "papermill": {
     "duration": 0.095942,
     "end_time": "2022-02-11T10:17:41.256376",
     "exception": false,
     "start_time": "2022-02-11T10:17:41.160434",
     "status": "completed"
    },
    "tags": []
   },
   "outputs": [
    {
     "name": "stdout",
     "output_type": "stream",
     "text": [
      "['age', 'profession', 'followers', 'views']\n"
     ]
    }
   ],
   "source": [
    "# catcols = ['user_id','category_id','video_id','gender']\n",
    "# catcols = ['category_id','video_id','gender']\n",
    "catcols = ['gender']\n",
    "numeric_cols = [col for col in features if col not in catcols+[targetcol]]\n",
    "print(numeric_cols)"
   ]
  },
  {
   "cell_type": "code",
   "execution_count": 12,
   "id": "839ca738",
   "metadata": {
    "execution": {
     "iopub.execute_input": "2022-02-11T10:17:41.437449Z",
     "iopub.status.busy": "2022-02-11T10:17:41.436465Z",
     "iopub.status.idle": "2022-02-11T10:17:44.056996Z",
     "shell.execute_reply": "2022-02-11T10:17:44.056445Z",
     "shell.execute_reply.started": "2022-02-11T09:59:26.061417Z"
    },
    "papermill": {
     "duration": 2.712511,
     "end_time": "2022-02-11T10:17:44.057171",
     "exception": false,
     "start_time": "2022-02-11T10:17:41.344660",
     "status": "completed"
    },
    "tags": []
   },
   "outputs": [
    {
     "data": {
      "text/html": [
       "<style type='text/css'>\n",
       ".datatable table.frame { margin-bottom: 0; }\n",
       ".datatable table.frame thead { border-bottom: none; }\n",
       ".datatable table.frame tr.coltypes td {  color: #FFFFFF;  line-height: 6px;  padding: 0 0.5em;}\n",
       ".datatable .bool    { background: #DDDD99; }\n",
       ".datatable .object  { background: #565656; }\n",
       ".datatable .int     { background: #5D9E5D; }\n",
       ".datatable .float   { background: #4040CC; }\n",
       ".datatable .str     { background: #CC4040; }\n",
       ".datatable .time    { background: #40CC40; }\n",
       ".datatable .row_index {  background: var(--jp-border-color3);  border-right: 1px solid var(--jp-border-color0);  color: var(--jp-ui-font-color3);  font-size: 9px;}\n",
       ".datatable .frame tbody td { text-align: left; }\n",
       ".datatable .frame tr.coltypes .row_index {  background: var(--jp-border-color0);}\n",
       ".datatable th:nth-child(2) { padding-left: 12px; }\n",
       ".datatable .hellipsis {  color: var(--jp-cell-editor-border-color);}\n",
       ".datatable .vellipsis {  background: var(--jp-layout-color0);  color: var(--jp-cell-editor-border-color);}\n",
       ".datatable .na {  color: var(--jp-cell-editor-border-color);  font-size: 80%;}\n",
       ".datatable .sp {  opacity: 0.25;}\n",
       ".datatable .footer { font-size: 9px; }\n",
       ".datatable .frame_dimensions {  background: var(--jp-border-color3);  border-top: 1px solid var(--jp-border-color0);  color: var(--jp-ui-font-color3);  display: inline-block;  opacity: 0.6;  padding: 1px 10px 1px 5px;}\n",
       "</style>\n"
      ],
      "text/plain": [
       "<IPython.core.display.HTML object>"
      ]
     },
     "metadata": {},
     "output_type": "display_data"
    }
   ],
   "source": [
    "from pycaret.regression import *"
   ]
  },
  {
   "cell_type": "code",
   "execution_count": 13,
   "id": "dfef5846",
   "metadata": {
    "execution": {
     "iopub.execute_input": "2022-02-11T10:17:44.252595Z",
     "iopub.status.busy": "2022-02-11T10:17:44.251996Z",
     "iopub.status.idle": "2022-02-11T10:17:45.981054Z",
     "shell.execute_reply": "2022-02-11T10:17:45.980523Z",
     "shell.execute_reply.started": "2022-02-11T09:59:34.826309Z"
    },
    "papermill": {
     "duration": 1.829426,
     "end_time": "2022-02-11T10:17:45.981204",
     "exception": false,
     "start_time": "2022-02-11T10:17:44.151778",
     "status": "completed"
    },
    "tags": []
   },
   "outputs": [
    {
     "data": {
      "text/html": [
       "<style type=\"text/css\">\n",
       "#T_b06fd_row42_col1 {\n",
       "  background-color: lightgreen;\n",
       "}\n",
       "</style>\n",
       "<table id=\"T_b06fd_\">\n",
       "  <thead>\n",
       "    <tr>\n",
       "      <th class=\"blank level0\" >&nbsp;</th>\n",
       "      <th class=\"col_heading level0 col0\" >Description</th>\n",
       "      <th class=\"col_heading level0 col1\" >Value</th>\n",
       "    </tr>\n",
       "  </thead>\n",
       "  <tbody>\n",
       "    <tr>\n",
       "      <th id=\"T_b06fd_level0_row0\" class=\"row_heading level0 row0\" >0</th>\n",
       "      <td id=\"T_b06fd_row0_col0\" class=\"data row0 col0\" >session_id</td>\n",
       "      <td id=\"T_b06fd_row0_col1\" class=\"data row0 col1\" >100</td>\n",
       "    </tr>\n",
       "    <tr>\n",
       "      <th id=\"T_b06fd_level0_row1\" class=\"row_heading level0 row1\" >1</th>\n",
       "      <td id=\"T_b06fd_row1_col0\" class=\"data row1 col0\" >Target</td>\n",
       "      <td id=\"T_b06fd_row1_col1\" class=\"data row1 col1\" >engagement_score</td>\n",
       "    </tr>\n",
       "    <tr>\n",
       "      <th id=\"T_b06fd_level0_row2\" class=\"row_heading level0 row2\" >2</th>\n",
       "      <td id=\"T_b06fd_row2_col0\" class=\"data row2 col0\" >Original Data</td>\n",
       "      <td id=\"T_b06fd_row2_col1\" class=\"data row2 col1\" >(89197, 6)</td>\n",
       "    </tr>\n",
       "    <tr>\n",
       "      <th id=\"T_b06fd_level0_row3\" class=\"row_heading level0 row3\" >3</th>\n",
       "      <td id=\"T_b06fd_row3_col0\" class=\"data row3 col0\" >Missing Values</td>\n",
       "      <td id=\"T_b06fd_row3_col1\" class=\"data row3 col1\" >False</td>\n",
       "    </tr>\n",
       "    <tr>\n",
       "      <th id=\"T_b06fd_level0_row4\" class=\"row_heading level0 row4\" >4</th>\n",
       "      <td id=\"T_b06fd_row4_col0\" class=\"data row4 col0\" >Numeric Features</td>\n",
       "      <td id=\"T_b06fd_row4_col1\" class=\"data row4 col1\" >4</td>\n",
       "    </tr>\n",
       "    <tr>\n",
       "      <th id=\"T_b06fd_level0_row5\" class=\"row_heading level0 row5\" >5</th>\n",
       "      <td id=\"T_b06fd_row5_col0\" class=\"data row5 col0\" >Categorical Features</td>\n",
       "      <td id=\"T_b06fd_row5_col1\" class=\"data row5 col1\" >1</td>\n",
       "    </tr>\n",
       "    <tr>\n",
       "      <th id=\"T_b06fd_level0_row6\" class=\"row_heading level0 row6\" >6</th>\n",
       "      <td id=\"T_b06fd_row6_col0\" class=\"data row6 col0\" >Ordinal Features</td>\n",
       "      <td id=\"T_b06fd_row6_col1\" class=\"data row6 col1\" >False</td>\n",
       "    </tr>\n",
       "    <tr>\n",
       "      <th id=\"T_b06fd_level0_row7\" class=\"row_heading level0 row7\" >7</th>\n",
       "      <td id=\"T_b06fd_row7_col0\" class=\"data row7 col0\" >High Cardinality Features</td>\n",
       "      <td id=\"T_b06fd_row7_col1\" class=\"data row7 col1\" >False</td>\n",
       "    </tr>\n",
       "    <tr>\n",
       "      <th id=\"T_b06fd_level0_row8\" class=\"row_heading level0 row8\" >8</th>\n",
       "      <td id=\"T_b06fd_row8_col0\" class=\"data row8 col0\" >High Cardinality Method</td>\n",
       "      <td id=\"T_b06fd_row8_col1\" class=\"data row8 col1\" >None</td>\n",
       "    </tr>\n",
       "    <tr>\n",
       "      <th id=\"T_b06fd_level0_row9\" class=\"row_heading level0 row9\" >9</th>\n",
       "      <td id=\"T_b06fd_row9_col0\" class=\"data row9 col0\" >Transformed Train Set</td>\n",
       "      <td id=\"T_b06fd_row9_col1\" class=\"data row9 col1\" >(62437, 5)</td>\n",
       "    </tr>\n",
       "    <tr>\n",
       "      <th id=\"T_b06fd_level0_row10\" class=\"row_heading level0 row10\" >10</th>\n",
       "      <td id=\"T_b06fd_row10_col0\" class=\"data row10 col0\" >Transformed Test Set</td>\n",
       "      <td id=\"T_b06fd_row10_col1\" class=\"data row10 col1\" >(26760, 5)</td>\n",
       "    </tr>\n",
       "    <tr>\n",
       "      <th id=\"T_b06fd_level0_row11\" class=\"row_heading level0 row11\" >11</th>\n",
       "      <td id=\"T_b06fd_row11_col0\" class=\"data row11 col0\" >Shuffle Train-Test</td>\n",
       "      <td id=\"T_b06fd_row11_col1\" class=\"data row11 col1\" >True</td>\n",
       "    </tr>\n",
       "    <tr>\n",
       "      <th id=\"T_b06fd_level0_row12\" class=\"row_heading level0 row12\" >12</th>\n",
       "      <td id=\"T_b06fd_row12_col0\" class=\"data row12 col0\" >Stratify Train-Test</td>\n",
       "      <td id=\"T_b06fd_row12_col1\" class=\"data row12 col1\" >False</td>\n",
       "    </tr>\n",
       "    <tr>\n",
       "      <th id=\"T_b06fd_level0_row13\" class=\"row_heading level0 row13\" >13</th>\n",
       "      <td id=\"T_b06fd_row13_col0\" class=\"data row13 col0\" >Fold Generator</td>\n",
       "      <td id=\"T_b06fd_row13_col1\" class=\"data row13 col1\" >KFold</td>\n",
       "    </tr>\n",
       "    <tr>\n",
       "      <th id=\"T_b06fd_level0_row14\" class=\"row_heading level0 row14\" >14</th>\n",
       "      <td id=\"T_b06fd_row14_col0\" class=\"data row14 col0\" >Fold Number</td>\n",
       "      <td id=\"T_b06fd_row14_col1\" class=\"data row14 col1\" >10</td>\n",
       "    </tr>\n",
       "    <tr>\n",
       "      <th id=\"T_b06fd_level0_row15\" class=\"row_heading level0 row15\" >15</th>\n",
       "      <td id=\"T_b06fd_row15_col0\" class=\"data row15 col0\" >CPU Jobs</td>\n",
       "      <td id=\"T_b06fd_row15_col1\" class=\"data row15 col1\" >-1</td>\n",
       "    </tr>\n",
       "    <tr>\n",
       "      <th id=\"T_b06fd_level0_row16\" class=\"row_heading level0 row16\" >16</th>\n",
       "      <td id=\"T_b06fd_row16_col0\" class=\"data row16 col0\" >Use GPU</td>\n",
       "      <td id=\"T_b06fd_row16_col1\" class=\"data row16 col1\" >False</td>\n",
       "    </tr>\n",
       "    <tr>\n",
       "      <th id=\"T_b06fd_level0_row17\" class=\"row_heading level0 row17\" >17</th>\n",
       "      <td id=\"T_b06fd_row17_col0\" class=\"data row17 col0\" >Log Experiment</td>\n",
       "      <td id=\"T_b06fd_row17_col1\" class=\"data row17 col1\" >False</td>\n",
       "    </tr>\n",
       "    <tr>\n",
       "      <th id=\"T_b06fd_level0_row18\" class=\"row_heading level0 row18\" >18</th>\n",
       "      <td id=\"T_b06fd_row18_col0\" class=\"data row18 col0\" >Experiment Name</td>\n",
       "      <td id=\"T_b06fd_row18_col1\" class=\"data row18 col1\" >reg-default-name</td>\n",
       "    </tr>\n",
       "    <tr>\n",
       "      <th id=\"T_b06fd_level0_row19\" class=\"row_heading level0 row19\" >19</th>\n",
       "      <td id=\"T_b06fd_row19_col0\" class=\"data row19 col0\" >USI</td>\n",
       "      <td id=\"T_b06fd_row19_col1\" class=\"data row19 col1\" >3be4</td>\n",
       "    </tr>\n",
       "    <tr>\n",
       "      <th id=\"T_b06fd_level0_row20\" class=\"row_heading level0 row20\" >20</th>\n",
       "      <td id=\"T_b06fd_row20_col0\" class=\"data row20 col0\" >Imputation Type</td>\n",
       "      <td id=\"T_b06fd_row20_col1\" class=\"data row20 col1\" >simple</td>\n",
       "    </tr>\n",
       "    <tr>\n",
       "      <th id=\"T_b06fd_level0_row21\" class=\"row_heading level0 row21\" >21</th>\n",
       "      <td id=\"T_b06fd_row21_col0\" class=\"data row21 col0\" >Iterative Imputation Iteration</td>\n",
       "      <td id=\"T_b06fd_row21_col1\" class=\"data row21 col1\" >None</td>\n",
       "    </tr>\n",
       "    <tr>\n",
       "      <th id=\"T_b06fd_level0_row22\" class=\"row_heading level0 row22\" >22</th>\n",
       "      <td id=\"T_b06fd_row22_col0\" class=\"data row22 col0\" >Numeric Imputer</td>\n",
       "      <td id=\"T_b06fd_row22_col1\" class=\"data row22 col1\" >mean</td>\n",
       "    </tr>\n",
       "    <tr>\n",
       "      <th id=\"T_b06fd_level0_row23\" class=\"row_heading level0 row23\" >23</th>\n",
       "      <td id=\"T_b06fd_row23_col0\" class=\"data row23 col0\" >Iterative Imputation Numeric Model</td>\n",
       "      <td id=\"T_b06fd_row23_col1\" class=\"data row23 col1\" >None</td>\n",
       "    </tr>\n",
       "    <tr>\n",
       "      <th id=\"T_b06fd_level0_row24\" class=\"row_heading level0 row24\" >24</th>\n",
       "      <td id=\"T_b06fd_row24_col0\" class=\"data row24 col0\" >Categorical Imputer</td>\n",
       "      <td id=\"T_b06fd_row24_col1\" class=\"data row24 col1\" >constant</td>\n",
       "    </tr>\n",
       "    <tr>\n",
       "      <th id=\"T_b06fd_level0_row25\" class=\"row_heading level0 row25\" >25</th>\n",
       "      <td id=\"T_b06fd_row25_col0\" class=\"data row25 col0\" >Iterative Imputation Categorical Model</td>\n",
       "      <td id=\"T_b06fd_row25_col1\" class=\"data row25 col1\" >None</td>\n",
       "    </tr>\n",
       "    <tr>\n",
       "      <th id=\"T_b06fd_level0_row26\" class=\"row_heading level0 row26\" >26</th>\n",
       "      <td id=\"T_b06fd_row26_col0\" class=\"data row26 col0\" >Unknown Categoricals Handling</td>\n",
       "      <td id=\"T_b06fd_row26_col1\" class=\"data row26 col1\" >least_frequent</td>\n",
       "    </tr>\n",
       "    <tr>\n",
       "      <th id=\"T_b06fd_level0_row27\" class=\"row_heading level0 row27\" >27</th>\n",
       "      <td id=\"T_b06fd_row27_col0\" class=\"data row27 col0\" >Normalize</td>\n",
       "      <td id=\"T_b06fd_row27_col1\" class=\"data row27 col1\" >False</td>\n",
       "    </tr>\n",
       "    <tr>\n",
       "      <th id=\"T_b06fd_level0_row28\" class=\"row_heading level0 row28\" >28</th>\n",
       "      <td id=\"T_b06fd_row28_col0\" class=\"data row28 col0\" >Normalize Method</td>\n",
       "      <td id=\"T_b06fd_row28_col1\" class=\"data row28 col1\" >None</td>\n",
       "    </tr>\n",
       "    <tr>\n",
       "      <th id=\"T_b06fd_level0_row29\" class=\"row_heading level0 row29\" >29</th>\n",
       "      <td id=\"T_b06fd_row29_col0\" class=\"data row29 col0\" >Transformation</td>\n",
       "      <td id=\"T_b06fd_row29_col1\" class=\"data row29 col1\" >False</td>\n",
       "    </tr>\n",
       "    <tr>\n",
       "      <th id=\"T_b06fd_level0_row30\" class=\"row_heading level0 row30\" >30</th>\n",
       "      <td id=\"T_b06fd_row30_col0\" class=\"data row30 col0\" >Transformation Method</td>\n",
       "      <td id=\"T_b06fd_row30_col1\" class=\"data row30 col1\" >None</td>\n",
       "    </tr>\n",
       "    <tr>\n",
       "      <th id=\"T_b06fd_level0_row31\" class=\"row_heading level0 row31\" >31</th>\n",
       "      <td id=\"T_b06fd_row31_col0\" class=\"data row31 col0\" >PCA</td>\n",
       "      <td id=\"T_b06fd_row31_col1\" class=\"data row31 col1\" >False</td>\n",
       "    </tr>\n",
       "    <tr>\n",
       "      <th id=\"T_b06fd_level0_row32\" class=\"row_heading level0 row32\" >32</th>\n",
       "      <td id=\"T_b06fd_row32_col0\" class=\"data row32 col0\" >PCA Method</td>\n",
       "      <td id=\"T_b06fd_row32_col1\" class=\"data row32 col1\" >None</td>\n",
       "    </tr>\n",
       "    <tr>\n",
       "      <th id=\"T_b06fd_level0_row33\" class=\"row_heading level0 row33\" >33</th>\n",
       "      <td id=\"T_b06fd_row33_col0\" class=\"data row33 col0\" >PCA Components</td>\n",
       "      <td id=\"T_b06fd_row33_col1\" class=\"data row33 col1\" >None</td>\n",
       "    </tr>\n",
       "    <tr>\n",
       "      <th id=\"T_b06fd_level0_row34\" class=\"row_heading level0 row34\" >34</th>\n",
       "      <td id=\"T_b06fd_row34_col0\" class=\"data row34 col0\" >Ignore Low Variance</td>\n",
       "      <td id=\"T_b06fd_row34_col1\" class=\"data row34 col1\" >False</td>\n",
       "    </tr>\n",
       "    <tr>\n",
       "      <th id=\"T_b06fd_level0_row35\" class=\"row_heading level0 row35\" >35</th>\n",
       "      <td id=\"T_b06fd_row35_col0\" class=\"data row35 col0\" >Combine Rare Levels</td>\n",
       "      <td id=\"T_b06fd_row35_col1\" class=\"data row35 col1\" >False</td>\n",
       "    </tr>\n",
       "    <tr>\n",
       "      <th id=\"T_b06fd_level0_row36\" class=\"row_heading level0 row36\" >36</th>\n",
       "      <td id=\"T_b06fd_row36_col0\" class=\"data row36 col0\" >Rare Level Threshold</td>\n",
       "      <td id=\"T_b06fd_row36_col1\" class=\"data row36 col1\" >None</td>\n",
       "    </tr>\n",
       "    <tr>\n",
       "      <th id=\"T_b06fd_level0_row37\" class=\"row_heading level0 row37\" >37</th>\n",
       "      <td id=\"T_b06fd_row37_col0\" class=\"data row37 col0\" >Numeric Binning</td>\n",
       "      <td id=\"T_b06fd_row37_col1\" class=\"data row37 col1\" >False</td>\n",
       "    </tr>\n",
       "    <tr>\n",
       "      <th id=\"T_b06fd_level0_row38\" class=\"row_heading level0 row38\" >38</th>\n",
       "      <td id=\"T_b06fd_row38_col0\" class=\"data row38 col0\" >Remove Outliers</td>\n",
       "      <td id=\"T_b06fd_row38_col1\" class=\"data row38 col1\" >False</td>\n",
       "    </tr>\n",
       "    <tr>\n",
       "      <th id=\"T_b06fd_level0_row39\" class=\"row_heading level0 row39\" >39</th>\n",
       "      <td id=\"T_b06fd_row39_col0\" class=\"data row39 col0\" >Outliers Threshold</td>\n",
       "      <td id=\"T_b06fd_row39_col1\" class=\"data row39 col1\" >None</td>\n",
       "    </tr>\n",
       "    <tr>\n",
       "      <th id=\"T_b06fd_level0_row40\" class=\"row_heading level0 row40\" >40</th>\n",
       "      <td id=\"T_b06fd_row40_col0\" class=\"data row40 col0\" >Remove Multicollinearity</td>\n",
       "      <td id=\"T_b06fd_row40_col1\" class=\"data row40 col1\" >False</td>\n",
       "    </tr>\n",
       "    <tr>\n",
       "      <th id=\"T_b06fd_level0_row41\" class=\"row_heading level0 row41\" >41</th>\n",
       "      <td id=\"T_b06fd_row41_col0\" class=\"data row41 col0\" >Multicollinearity Threshold</td>\n",
       "      <td id=\"T_b06fd_row41_col1\" class=\"data row41 col1\" >None</td>\n",
       "    </tr>\n",
       "    <tr>\n",
       "      <th id=\"T_b06fd_level0_row42\" class=\"row_heading level0 row42\" >42</th>\n",
       "      <td id=\"T_b06fd_row42_col0\" class=\"data row42 col0\" >Remove Perfect Collinearity</td>\n",
       "      <td id=\"T_b06fd_row42_col1\" class=\"data row42 col1\" >True</td>\n",
       "    </tr>\n",
       "    <tr>\n",
       "      <th id=\"T_b06fd_level0_row43\" class=\"row_heading level0 row43\" >43</th>\n",
       "      <td id=\"T_b06fd_row43_col0\" class=\"data row43 col0\" >Clustering</td>\n",
       "      <td id=\"T_b06fd_row43_col1\" class=\"data row43 col1\" >False</td>\n",
       "    </tr>\n",
       "    <tr>\n",
       "      <th id=\"T_b06fd_level0_row44\" class=\"row_heading level0 row44\" >44</th>\n",
       "      <td id=\"T_b06fd_row44_col0\" class=\"data row44 col0\" >Clustering Iteration</td>\n",
       "      <td id=\"T_b06fd_row44_col1\" class=\"data row44 col1\" >None</td>\n",
       "    </tr>\n",
       "    <tr>\n",
       "      <th id=\"T_b06fd_level0_row45\" class=\"row_heading level0 row45\" >45</th>\n",
       "      <td id=\"T_b06fd_row45_col0\" class=\"data row45 col0\" >Polynomial Features</td>\n",
       "      <td id=\"T_b06fd_row45_col1\" class=\"data row45 col1\" >False</td>\n",
       "    </tr>\n",
       "    <tr>\n",
       "      <th id=\"T_b06fd_level0_row46\" class=\"row_heading level0 row46\" >46</th>\n",
       "      <td id=\"T_b06fd_row46_col0\" class=\"data row46 col0\" >Polynomial Degree</td>\n",
       "      <td id=\"T_b06fd_row46_col1\" class=\"data row46 col1\" >None</td>\n",
       "    </tr>\n",
       "    <tr>\n",
       "      <th id=\"T_b06fd_level0_row47\" class=\"row_heading level0 row47\" >47</th>\n",
       "      <td id=\"T_b06fd_row47_col0\" class=\"data row47 col0\" >Trignometry Features</td>\n",
       "      <td id=\"T_b06fd_row47_col1\" class=\"data row47 col1\" >False</td>\n",
       "    </tr>\n",
       "    <tr>\n",
       "      <th id=\"T_b06fd_level0_row48\" class=\"row_heading level0 row48\" >48</th>\n",
       "      <td id=\"T_b06fd_row48_col0\" class=\"data row48 col0\" >Polynomial Threshold</td>\n",
       "      <td id=\"T_b06fd_row48_col1\" class=\"data row48 col1\" >None</td>\n",
       "    </tr>\n",
       "    <tr>\n",
       "      <th id=\"T_b06fd_level0_row49\" class=\"row_heading level0 row49\" >49</th>\n",
       "      <td id=\"T_b06fd_row49_col0\" class=\"data row49 col0\" >Group Features</td>\n",
       "      <td id=\"T_b06fd_row49_col1\" class=\"data row49 col1\" >False</td>\n",
       "    </tr>\n",
       "    <tr>\n",
       "      <th id=\"T_b06fd_level0_row50\" class=\"row_heading level0 row50\" >50</th>\n",
       "      <td id=\"T_b06fd_row50_col0\" class=\"data row50 col0\" >Feature Selection</td>\n",
       "      <td id=\"T_b06fd_row50_col1\" class=\"data row50 col1\" >False</td>\n",
       "    </tr>\n",
       "    <tr>\n",
       "      <th id=\"T_b06fd_level0_row51\" class=\"row_heading level0 row51\" >51</th>\n",
       "      <td id=\"T_b06fd_row51_col0\" class=\"data row51 col0\" >Feature Selection Method</td>\n",
       "      <td id=\"T_b06fd_row51_col1\" class=\"data row51 col1\" >classic</td>\n",
       "    </tr>\n",
       "    <tr>\n",
       "      <th id=\"T_b06fd_level0_row52\" class=\"row_heading level0 row52\" >52</th>\n",
       "      <td id=\"T_b06fd_row52_col0\" class=\"data row52 col0\" >Features Selection Threshold</td>\n",
       "      <td id=\"T_b06fd_row52_col1\" class=\"data row52 col1\" >None</td>\n",
       "    </tr>\n",
       "    <tr>\n",
       "      <th id=\"T_b06fd_level0_row53\" class=\"row_heading level0 row53\" >53</th>\n",
       "      <td id=\"T_b06fd_row53_col0\" class=\"data row53 col0\" >Feature Interaction</td>\n",
       "      <td id=\"T_b06fd_row53_col1\" class=\"data row53 col1\" >False</td>\n",
       "    </tr>\n",
       "    <tr>\n",
       "      <th id=\"T_b06fd_level0_row54\" class=\"row_heading level0 row54\" >54</th>\n",
       "      <td id=\"T_b06fd_row54_col0\" class=\"data row54 col0\" >Feature Ratio</td>\n",
       "      <td id=\"T_b06fd_row54_col1\" class=\"data row54 col1\" >False</td>\n",
       "    </tr>\n",
       "    <tr>\n",
       "      <th id=\"T_b06fd_level0_row55\" class=\"row_heading level0 row55\" >55</th>\n",
       "      <td id=\"T_b06fd_row55_col0\" class=\"data row55 col0\" >Interaction Threshold</td>\n",
       "      <td id=\"T_b06fd_row55_col1\" class=\"data row55 col1\" >None</td>\n",
       "    </tr>\n",
       "    <tr>\n",
       "      <th id=\"T_b06fd_level0_row56\" class=\"row_heading level0 row56\" >56</th>\n",
       "      <td id=\"T_b06fd_row56_col0\" class=\"data row56 col0\" >Transform Target</td>\n",
       "      <td id=\"T_b06fd_row56_col1\" class=\"data row56 col1\" >False</td>\n",
       "    </tr>\n",
       "    <tr>\n",
       "      <th id=\"T_b06fd_level0_row57\" class=\"row_heading level0 row57\" >57</th>\n",
       "      <td id=\"T_b06fd_row57_col0\" class=\"data row57 col0\" >Transform Target Method</td>\n",
       "      <td id=\"T_b06fd_row57_col1\" class=\"data row57 col1\" >box-cox</td>\n",
       "    </tr>\n",
       "  </tbody>\n",
       "</table>\n"
      ],
      "text/plain": [
       "<pandas.io.formats.style.Styler at 0x7f3c01c7ca50>"
      ]
     },
     "metadata": {},
     "output_type": "display_data"
    }
   ],
   "source": [
    "s = setup(train[features], session_id=100,\n",
    "          silent=True,\n",
    "          numeric_features=numeric_cols,\n",
    "          categorical_features=catcols,\n",
    "#           high_cardinality_features=['user_id'],\n",
    "#           high_cardinality_method='frequency',\n",
    "          target = targetcol\n",
    "#           preprocess=False,\n",
    "#           use_gpu=True,\n",
    "#           normalize=True,# normalize_method='minmax',\n",
    "          )"
   ]
  },
  {
   "cell_type": "code",
   "execution_count": 14,
   "id": "934c496a",
   "metadata": {
    "execution": {
     "iopub.execute_input": "2022-02-11T10:17:46.165969Z",
     "iopub.status.busy": "2022-02-11T10:17:46.165368Z",
     "iopub.status.idle": "2022-02-11T10:17:46.178347Z",
     "shell.execute_reply": "2022-02-11T10:17:46.177877Z",
     "shell.execute_reply.started": "2022-02-11T09:59:41.765881Z"
    },
    "papermill": {
     "duration": 0.105513,
     "end_time": "2022-02-11T10:17:46.178504",
     "exception": false,
     "start_time": "2022-02-11T10:17:46.072991",
     "status": "completed"
    },
    "tags": []
   },
   "outputs": [
    {
     "name": "stdout",
     "output_type": "stream",
     "text": [
      "5\n"
     ]
    },
    {
     "data": {
      "text/plain": [
       "Index(['age', 'profession', 'followers', 'views', 'gender_0'], dtype='object')"
      ]
     },
     "execution_count": 14,
     "metadata": {},
     "output_type": "execute_result"
    }
   ],
   "source": [
    "X_train = get_config('X_train')\n",
    "print(len(X_train.columns))\n",
    "X_train.columns"
   ]
  },
  {
   "cell_type": "code",
   "execution_count": 15,
   "id": "fcee0c51",
   "metadata": {
    "execution": {
     "iopub.execute_input": "2022-02-11T10:17:46.400802Z",
     "iopub.status.busy": "2022-02-11T10:17:46.399842Z",
     "iopub.status.idle": "2022-02-11T10:17:54.963775Z",
     "shell.execute_reply": "2022-02-11T10:17:54.964257Z",
     "shell.execute_reply.started": "2022-02-11T09:59:48.344679Z"
    },
    "papermill": {
     "duration": 8.657885,
     "end_time": "2022-02-11T10:17:54.964420",
     "exception": false,
     "start_time": "2022-02-11T10:17:46.306535",
     "status": "completed"
    },
    "tags": []
   },
   "outputs": [
    {
     "data": {
      "text/html": [
       "<style type=\"text/css\">\n",
       "#T_a7f56_row10_col0, #T_a7f56_row10_col1, #T_a7f56_row10_col2, #T_a7f56_row10_col3, #T_a7f56_row10_col4, #T_a7f56_row10_col5 {\n",
       "  background: yellow;\n",
       "}\n",
       "</style>\n",
       "<table id=\"T_a7f56_\">\n",
       "  <thead>\n",
       "    <tr>\n",
       "      <th class=\"blank level0\" >&nbsp;</th>\n",
       "      <th class=\"col_heading level0 col0\" >MAE</th>\n",
       "      <th class=\"col_heading level0 col1\" >MSE</th>\n",
       "      <th class=\"col_heading level0 col2\" >RMSE</th>\n",
       "      <th class=\"col_heading level0 col3\" >R2</th>\n",
       "      <th class=\"col_heading level0 col4\" >RMSLE</th>\n",
       "      <th class=\"col_heading level0 col5\" >MAPE</th>\n",
       "    </tr>\n",
       "  </thead>\n",
       "  <tbody>\n",
       "    <tr>\n",
       "      <th id=\"T_a7f56_level0_row0\" class=\"row_heading level0 row0\" >0</th>\n",
       "      <td id=\"T_a7f56_row0_col0\" class=\"data row0 col0\" >0.5258</td>\n",
       "      <td id=\"T_a7f56_row0_col1\" class=\"data row0 col1\" >0.4979</td>\n",
       "      <td id=\"T_a7f56_row0_col2\" class=\"data row0 col2\" >0.7056</td>\n",
       "      <td id=\"T_a7f56_row0_col3\" class=\"data row0 col3\" >0.3614</td>\n",
       "      <td id=\"T_a7f56_row0_col4\" class=\"data row0 col4\" >0.1985</td>\n",
       "      <td id=\"T_a7f56_row0_col5\" class=\"data row0 col5\" >0.2475</td>\n",
       "    </tr>\n",
       "    <tr>\n",
       "      <th id=\"T_a7f56_level0_row1\" class=\"row_heading level0 row1\" >1</th>\n",
       "      <td id=\"T_a7f56_row1_col0\" class=\"data row1 col0\" >0.5228</td>\n",
       "      <td id=\"T_a7f56_row1_col1\" class=\"data row1 col1\" >0.4776</td>\n",
       "      <td id=\"T_a7f56_row1_col2\" class=\"data row1 col2\" >0.6911</td>\n",
       "      <td id=\"T_a7f56_row1_col3\" class=\"data row1 col3\" >0.3526</td>\n",
       "      <td id=\"T_a7f56_row1_col4\" class=\"data row1 col4\" >0.1875</td>\n",
       "      <td id=\"T_a7f56_row1_col5\" class=\"data row1 col5\" >0.2446</td>\n",
       "    </tr>\n",
       "    <tr>\n",
       "      <th id=\"T_a7f56_level0_row2\" class=\"row_heading level0 row2\" >2</th>\n",
       "      <td id=\"T_a7f56_row2_col0\" class=\"data row2 col0\" >0.5374</td>\n",
       "      <td id=\"T_a7f56_row2_col1\" class=\"data row2 col1\" >0.5162</td>\n",
       "      <td id=\"T_a7f56_row2_col2\" class=\"data row2 col2\" >0.7185</td>\n",
       "      <td id=\"T_a7f56_row2_col3\" class=\"data row2 col3\" >0.3305</td>\n",
       "      <td id=\"T_a7f56_row2_col4\" class=\"data row2 col4\" >0.1979</td>\n",
       "      <td id=\"T_a7f56_row2_col5\" class=\"data row2 col5\" >0.2978</td>\n",
       "    </tr>\n",
       "    <tr>\n",
       "      <th id=\"T_a7f56_level0_row3\" class=\"row_heading level0 row3\" >3</th>\n",
       "      <td id=\"T_a7f56_row3_col0\" class=\"data row3 col0\" >0.5215</td>\n",
       "      <td id=\"T_a7f56_row3_col1\" class=\"data row3 col1\" >0.4767</td>\n",
       "      <td id=\"T_a7f56_row3_col2\" class=\"data row3 col2\" >0.6905</td>\n",
       "      <td id=\"T_a7f56_row3_col3\" class=\"data row3 col3\" >0.3544</td>\n",
       "      <td id=\"T_a7f56_row3_col4\" class=\"data row3 col4\" >0.1879</td>\n",
       "      <td id=\"T_a7f56_row3_col5\" class=\"data row3 col5\" >0.2274</td>\n",
       "    </tr>\n",
       "    <tr>\n",
       "      <th id=\"T_a7f56_level0_row4\" class=\"row_heading level0 row4\" >4</th>\n",
       "      <td id=\"T_a7f56_row4_col0\" class=\"data row4 col0\" >0.5267</td>\n",
       "      <td id=\"T_a7f56_row4_col1\" class=\"data row4 col1\" >0.4907</td>\n",
       "      <td id=\"T_a7f56_row4_col2\" class=\"data row4 col2\" >0.7005</td>\n",
       "      <td id=\"T_a7f56_row4_col3\" class=\"data row4 col3\" >0.3528</td>\n",
       "      <td id=\"T_a7f56_row4_col4\" class=\"data row4 col4\" >0.1923</td>\n",
       "      <td id=\"T_a7f56_row4_col5\" class=\"data row4 col5\" >0.2071</td>\n",
       "    </tr>\n",
       "    <tr>\n",
       "      <th id=\"T_a7f56_level0_row5\" class=\"row_heading level0 row5\" >5</th>\n",
       "      <td id=\"T_a7f56_row5_col0\" class=\"data row5 col0\" >0.5299</td>\n",
       "      <td id=\"T_a7f56_row5_col1\" class=\"data row5 col1\" >0.4923</td>\n",
       "      <td id=\"T_a7f56_row5_col2\" class=\"data row5 col2\" >0.7016</td>\n",
       "      <td id=\"T_a7f56_row5_col3\" class=\"data row5 col3\" >0.3397</td>\n",
       "      <td id=\"T_a7f56_row5_col4\" class=\"data row5 col4\" >0.1898</td>\n",
       "      <td id=\"T_a7f56_row5_col5\" class=\"data row5 col5\" >0.2337</td>\n",
       "    </tr>\n",
       "    <tr>\n",
       "      <th id=\"T_a7f56_level0_row6\" class=\"row_heading level0 row6\" >6</th>\n",
       "      <td id=\"T_a7f56_row6_col0\" class=\"data row6 col0\" >0.5192</td>\n",
       "      <td id=\"T_a7f56_row6_col1\" class=\"data row6 col1\" >0.4719</td>\n",
       "      <td id=\"T_a7f56_row6_col2\" class=\"data row6 col2\" >0.6869</td>\n",
       "      <td id=\"T_a7f56_row6_col3\" class=\"data row6 col3\" >0.3538</td>\n",
       "      <td id=\"T_a7f56_row6_col4\" class=\"data row6 col4\" >0.1844</td>\n",
       "      <td id=\"T_a7f56_row6_col5\" class=\"data row6 col5\" >0.2004</td>\n",
       "    </tr>\n",
       "    <tr>\n",
       "      <th id=\"T_a7f56_level0_row7\" class=\"row_heading level0 row7\" >7</th>\n",
       "      <td id=\"T_a7f56_row7_col0\" class=\"data row7 col0\" >0.5341</td>\n",
       "      <td id=\"T_a7f56_row7_col1\" class=\"data row7 col1\" >0.4977</td>\n",
       "      <td id=\"T_a7f56_row7_col2\" class=\"data row7 col2\" >0.7055</td>\n",
       "      <td id=\"T_a7f56_row7_col3\" class=\"data row7 col3\" >0.3386</td>\n",
       "      <td id=\"T_a7f56_row7_col4\" class=\"data row7 col4\" >0.1926</td>\n",
       "      <td id=\"T_a7f56_row7_col5\" class=\"data row7 col5\" >0.2440</td>\n",
       "    </tr>\n",
       "    <tr>\n",
       "      <th id=\"T_a7f56_level0_row8\" class=\"row_heading level0 row8\" >8</th>\n",
       "      <td id=\"T_a7f56_row8_col0\" class=\"data row8 col0\" >0.5170</td>\n",
       "      <td id=\"T_a7f56_row8_col1\" class=\"data row8 col1\" >0.4633</td>\n",
       "      <td id=\"T_a7f56_row8_col2\" class=\"data row8 col2\" >0.6806</td>\n",
       "      <td id=\"T_a7f56_row8_col3\" class=\"data row8 col3\" >0.3600</td>\n",
       "      <td id=\"T_a7f56_row8_col4\" class=\"data row8 col4\" >0.1826</td>\n",
       "      <td id=\"T_a7f56_row8_col5\" class=\"data row8 col5\" >0.2467</td>\n",
       "    </tr>\n",
       "    <tr>\n",
       "      <th id=\"T_a7f56_level0_row9\" class=\"row_heading level0 row9\" >9</th>\n",
       "      <td id=\"T_a7f56_row9_col0\" class=\"data row9 col0\" >0.5251</td>\n",
       "      <td id=\"T_a7f56_row9_col1\" class=\"data row9 col1\" >0.4809</td>\n",
       "      <td id=\"T_a7f56_row9_col2\" class=\"data row9 col2\" >0.6935</td>\n",
       "      <td id=\"T_a7f56_row9_col3\" class=\"data row9 col3\" >0.3637</td>\n",
       "      <td id=\"T_a7f56_row9_col4\" class=\"data row9 col4\" >0.1905</td>\n",
       "      <td id=\"T_a7f56_row9_col5\" class=\"data row9 col5\" >0.2701</td>\n",
       "    </tr>\n",
       "    <tr>\n",
       "      <th id=\"T_a7f56_level0_row10\" class=\"row_heading level0 row10\" >Mean</th>\n",
       "      <td id=\"T_a7f56_row10_col0\" class=\"data row10 col0\" >0.5259</td>\n",
       "      <td id=\"T_a7f56_row10_col1\" class=\"data row10 col1\" >0.4865</td>\n",
       "      <td id=\"T_a7f56_row10_col2\" class=\"data row10 col2\" >0.6974</td>\n",
       "      <td id=\"T_a7f56_row10_col3\" class=\"data row10 col3\" >0.3508</td>\n",
       "      <td id=\"T_a7f56_row10_col4\" class=\"data row10 col4\" >0.1904</td>\n",
       "      <td id=\"T_a7f56_row10_col5\" class=\"data row10 col5\" >0.2419</td>\n",
       "    </tr>\n",
       "    <tr>\n",
       "      <th id=\"T_a7f56_level0_row11\" class=\"row_heading level0 row11\" >SD</th>\n",
       "      <td id=\"T_a7f56_row11_col0\" class=\"data row11 col0\" >0.0061</td>\n",
       "      <td id=\"T_a7f56_row11_col1\" class=\"data row11 col1\" >0.0147</td>\n",
       "      <td id=\"T_a7f56_row11_col2\" class=\"data row11 col2\" >0.0105</td>\n",
       "      <td id=\"T_a7f56_row11_col3\" class=\"data row11 col3\" >0.0104</td>\n",
       "      <td id=\"T_a7f56_row11_col4\" class=\"data row11 col4\" >0.0049</td>\n",
       "      <td id=\"T_a7f56_row11_col5\" class=\"data row11 col5\" >0.0268</td>\n",
       "    </tr>\n",
       "  </tbody>\n",
       "</table>\n"
      ],
      "text/plain": [
       "<pandas.io.formats.style.Styler at 0x7f3c01baac10>"
      ]
     },
     "metadata": {},
     "output_type": "display_data"
    },
    {
     "name": "stdout",
     "output_type": "stream",
     "text": [
      "CPU times: user 1.37 s, sys: 123 ms, total: 1.49 s\n",
      "Wall time: 8.55 s\n"
     ]
    },
    {
     "data": {
      "text/plain": [
       "LGBMRegressor(boosting_type='gbdt', class_weight=None, colsample_bytree=1.0,\n",
       "              importance_type='split', learning_rate=0.1, max_depth=-1,\n",
       "              min_child_samples=20, min_child_weight=0.001, min_split_gain=0.0,\n",
       "              n_estimators=100, n_jobs=-1, num_leaves=31, objective=None,\n",
       "              random_state=100, reg_alpha=0.0, reg_lambda=0.0, silent='warn',\n",
       "              subsample=1.0, subsample_for_bin=200000, subsample_freq=0)"
      ]
     },
     "execution_count": 15,
     "metadata": {},
     "output_type": "execute_result"
    }
   ],
   "source": [
    "%%time\n",
    "# lgbm = create_model('lightgbm',early_stopping_rounds=100,eval_metric='auc',\n",
    "#                     num_boost_round=1000)\n",
    "lgbm = create_model('lightgbm')\n",
    "lgbm"
   ]
  },
  {
   "cell_type": "code",
   "execution_count": 16,
   "id": "a2449604",
   "metadata": {
    "execution": {
     "iopub.execute_input": "2022-02-11T10:17:55.152036Z",
     "iopub.status.busy": "2022-02-11T10:17:55.151417Z",
     "iopub.status.idle": "2022-02-11T10:17:58.471014Z",
     "shell.execute_reply": "2022-02-11T10:17:58.471440Z",
     "shell.execute_reply.started": "2022-02-11T10:09:15.709155Z"
    },
    "papermill": {
     "duration": 3.414193,
     "end_time": "2022-02-11T10:17:58.471620",
     "exception": false,
     "start_time": "2022-02-11T10:17:55.057427",
     "status": "completed"
    },
    "tags": []
   },
   "outputs": [
    {
     "name": "stdout",
     "output_type": "stream",
     "text": [
      "   row_id  user_id  category_id  video_id  age  gender  profession  followers  \\\n",
      "0   89198     7986           12        42   14       1           1        180   \n",
      "1   89199    11278           34       115   14       1           1        230   \n",
      "2   89200    17245            8       110   44       0           2        280   \n",
      "3   89201     9851           16       137   18       1           1        270   \n",
      "4   89202    16008           34        96   47       0           0        230   \n",
      "\n",
      "   views     Label  \n",
      "0    138  4.092684  \n",
      "1    840  3.758773  \n",
      "2    628  2.685152  \n",
      "3    462  3.891776  \n",
      "4    840  2.181195  \n",
      "CPU times: user 1.93 s, sys: 27.1 ms, total: 1.95 s\n",
      "Wall time: 3.31 s\n"
     ]
    }
   ],
   "source": [
    "%%time\n",
    "# predict_model(lgbm)\n",
    "final_model = finalize_model(lgbm)\n",
    "test_preds = predict_model(final_model, data=test)\n",
    "print(test_preds.head())"
   ]
  },
  {
   "cell_type": "code",
   "execution_count": 17,
   "id": "c873e5b4",
   "metadata": {
    "execution": {
     "iopub.execute_input": "2022-02-11T10:17:58.657045Z",
     "iopub.status.busy": "2022-02-11T10:17:58.656424Z",
     "iopub.status.idle": "2022-02-11T10:17:58.661002Z",
     "shell.execute_reply": "2022-02-11T10:17:58.661584Z",
     "shell.execute_reply.started": "2022-02-11T10:09:51.206628Z"
    },
    "papermill": {
     "duration": 0.099231,
     "end_time": "2022-02-11T10:17:58.661763",
     "exception": false,
     "start_time": "2022-02-11T10:17:58.562532",
     "status": "completed"
    },
    "tags": []
   },
   "outputs": [
    {
     "data": {
      "text/plain": [
       "LGBMRegressor(boosting_type='gbdt', class_weight=None, colsample_bytree=1.0,\n",
       "              importance_type='split', learning_rate=0.1, max_depth=-1,\n",
       "              min_child_samples=20, min_child_weight=0.001, min_split_gain=0.0,\n",
       "              n_estimators=100, n_jobs=-1, num_leaves=31, objective=None,\n",
       "              random_state=100, reg_alpha=0.0, reg_lambda=0.0, silent='warn',\n",
       "              subsample=1.0, subsample_for_bin=200000, subsample_freq=0)"
      ]
     },
     "execution_count": 17,
     "metadata": {},
     "output_type": "execute_result"
    }
   ],
   "source": [
    "lgbm"
   ]
  },
  {
   "cell_type": "code",
   "execution_count": 18,
   "id": "7a8d937f",
   "metadata": {
    "execution": {
     "iopub.execute_input": "2022-02-11T10:17:58.852022Z",
     "iopub.status.busy": "2022-02-11T10:17:58.851025Z",
     "iopub.status.idle": "2022-02-11T10:17:59.259261Z",
     "shell.execute_reply": "2022-02-11T10:17:59.259710Z",
     "shell.execute_reply.started": "2022-02-11T10:10:19.533298Z"
    },
    "papermill": {
     "duration": 0.506593,
     "end_time": "2022-02-11T10:17:59.259892",
     "exception": false,
     "start_time": "2022-02-11T10:17:58.753299",
     "status": "completed"
    },
    "tags": []
   },
   "outputs": [
    {
     "data": {
      "image/png": "[encoded data removed]",
      "text/plain": [
       "<Figure size 800x500 with 1 Axes>"
      ]
     },
     "metadata": {},
     "output_type": "display_data"
    }
   ],
   "source": [
    "plot_model(lgbm,'feature')"
   ]
  },
  {
   "cell_type": "code",
   "execution_count": 19,
   "id": "01e154e8",
   "metadata": {
    "execution": {
     "iopub.execute_input": "2022-02-11T10:17:59.452536Z",
     "iopub.status.busy": "2022-02-11T10:17:59.451971Z",
     "iopub.status.idle": "2022-02-11T10:17:59.485621Z",
     "shell.execute_reply": "2022-02-11T10:17:59.486173Z",
     "shell.execute_reply.started": "2022-02-11T10:09:52.402384Z"
    },
    "papermill": {
     "duration": 0.130363,
     "end_time": "2022-02-11T10:17:59.486347",
     "exception": false,
     "start_time": "2022-02-11T10:17:59.355984",
     "status": "completed"
    },
    "tags": []
   },
   "outputs": [],
   "source": [
    "submission = test_preds[['row_id','Label']]\n",
    "submission=submission.rename(columns={'Label':'engagement_score'})\n",
    "submission[['row_id','engagement_score']].to_csv('submission.csv',index=False)"
   ]
  },
  {
   "cell_type": "code",
   "execution_count": 20,
   "id": "a2f5b636",
   "metadata": {
    "execution": {
     "iopub.execute_input": "2022-02-11T10:17:59.679760Z",
     "iopub.status.busy": "2022-02-11T10:17:59.679180Z",
     "iopub.status.idle": "2022-02-11T10:17:59.688989Z",
     "shell.execute_reply": "2022-02-11T10:17:59.689494Z",
     "shell.execute_reply.started": "2022-02-11T10:09:53.888715Z"
    },
    "papermill": {
     "duration": 0.108275,
     "end_time": "2022-02-11T10:17:59.689665",
     "exception": false,
     "start_time": "2022-02-11T10:17:59.581390",
     "status": "completed"
    },
    "tags": []
   },
   "outputs": [],
   "source": [
    "test_sub = pd.read_csv('submission.csv')"
   ]
  },
  {
   "cell_type": "code",
   "execution_count": 21,
   "id": "541ac0cf",
   "metadata": {
    "execution": {
     "iopub.execute_input": "2022-02-11T10:17:59.879512Z",
     "iopub.status.busy": "2022-02-11T10:17:59.878934Z",
     "iopub.status.idle": "2022-02-11T10:17:59.887456Z",
     "shell.execute_reply": "2022-02-11T10:17:59.887990Z",
     "shell.execute_reply.started": "2022-02-11T10:09:54.805651Z"
    },
    "papermill": {
     "duration": 0.104699,
     "end_time": "2022-02-11T10:17:59.888187",
     "exception": false,
     "start_time": "2022-02-11T10:17:59.783488",
     "status": "completed"
    },
    "tags": []
   },
   "outputs": [
    {
     "name": "stdout",
     "output_type": "stream",
     "text": [
      "(11121, 2)\n"
     ]
    },
    {
     "data": {
      "text/html": [
       "<div>\n",
       "<style scoped>\n",
       "    .dataframe tbody tr th:only-of-type {\n",
       "        vertical-align: middle;\n",
       "    }\n",
       "\n",
       "    .dataframe tbody tr th {\n",
       "        vertical-align: top;\n",
       "    }\n",
       "\n",
       "    .dataframe thead th {\n",
       "        text-align: right;\n",
       "    }\n",
       "</style>\n",
       "<table border=\"1\" class=\"dataframe\">\n",
       "  <thead>\n",
       "    <tr style=\"text-align: right;\">\n",
       "      <th></th>\n",
       "      <th>row_id</th>\n",
       "      <th>engagement_score</th>\n",
       "    </tr>\n",
       "  </thead>\n",
       "  <tbody>\n",
       "    <tr>\n",
       "      <th>0</th>\n",
       "      <td>89198</td>\n",
       "      <td>4.092684</td>\n",
       "    </tr>\n",
       "    <tr>\n",
       "      <th>1</th>\n",
       "      <td>89199</td>\n",
       "      <td>3.758773</td>\n",
       "    </tr>\n",
       "    <tr>\n",
       "      <th>2</th>\n",
       "      <td>89200</td>\n",
       "      <td>2.685152</td>\n",
       "    </tr>\n",
       "    <tr>\n",
       "      <th>3</th>\n",
       "      <td>89201</td>\n",
       "      <td>3.891776</td>\n",
       "    </tr>\n",
       "    <tr>\n",
       "      <th>4</th>\n",
       "      <td>89202</td>\n",
       "      <td>2.181195</td>\n",
       "    </tr>\n",
       "  </tbody>\n",
       "</table>\n",
       "</div>"
      ],
      "text/plain": [
       "   row_id  engagement_score\n",
       "0   89198          4.092684\n",
       "1   89199          3.758773\n",
       "2   89200          2.685152\n",
       "3   89201          3.891776\n",
       "4   89202          2.181195"
      ]
     },
     "execution_count": 21,
     "metadata": {},
     "output_type": "execute_result"
    }
   ],
   "source": [
    "print(test_sub.shape)\n",
    "test_sub.head()"
   ]
  },
  {
   "cell_type": "code",
   "execution_count": 22,
   "id": "15fb1d86",
   "metadata": {
    "execution": {
     "iopub.execute_input": "2022-02-11T10:18:00.081104Z",
     "iopub.status.busy": "2022-02-11T10:18:00.080417Z",
     "iopub.status.idle": "2022-02-11T10:18:00.085799Z",
     "shell.execute_reply": "2022-02-11T10:18:00.086280Z",
     "shell.execute_reply.started": "2022-02-11T10:09:55.637214Z"
    },
    "papermill": {
     "duration": 0.103565,
     "end_time": "2022-02-11T10:18:00.086579",
     "exception": false,
     "start_time": "2022-02-11T10:17:59.983014",
     "status": "completed"
    },
    "tags": []
   },
   "outputs": [
    {
     "data": {
      "text/plain": [
       "array([12, 34,  8, 16, 42,  5, 21, 19,  4, 25,  9, 15, 13, 11,  7,  1, 31,\n",
       "       32, 10, 29, 18, 46, 44])"
      ]
     },
     "execution_count": 22,
     "metadata": {},
     "output_type": "execute_result"
    }
   ],
   "source": [
    "test['category_id'].unique()"
   ]
  },
  {
   "cell_type": "code",
   "execution_count": 23,
   "id": "70702872",
   "metadata": {
    "execution": {
     "iopub.execute_input": "2022-02-11T10:18:00.280755Z",
     "iopub.status.busy": "2022-02-11T10:18:00.280132Z",
     "iopub.status.idle": "2022-02-11T10:18:00.293443Z",
     "shell.execute_reply": "2022-02-11T10:18:00.294011Z",
     "shell.execute_reply.started": "2022-02-11T10:04:53.997810Z"
    },
    "papermill": {
     "duration": 0.111819,
     "end_time": "2022-02-11T10:18:00.294189",
     "exception": false,
     "start_time": "2022-02-11T10:18:00.182370",
     "status": "completed"
    },
    "tags": []
   },
   "outputs": [
    {
     "name": "stdout",
     "output_type": "stream",
     "text": [
      "count    11121.000000\n",
      "mean       454.959986\n",
      "std        249.759038\n",
      "min         44.000000\n",
      "25%        229.000000\n",
      "50%        369.000000\n",
      "75%        662.000000\n",
      "max        990.000000\n",
      "Name: views, dtype: float64\n",
      "count    89197.000000\n",
      "mean       502.980268\n",
      "std        268.569482\n",
      "min         30.000000\n",
      "25%        229.000000\n",
      "50%        467.000000\n",
      "75%        714.000000\n",
      "max       1000.000000\n",
      "Name: views, dtype: float64\n"
     ]
    }
   ],
   "source": [
    "print(test['views'].describe())\n",
    "print(train['views'].describe())"
   ]
  },
  {
   "cell_type": "code",
   "execution_count": null,
   "id": "b79ed2dd",
   "metadata": {
    "papermill": {
     "duration": 0.094623,
     "end_time": "2022-02-11T10:18:00.483126",
     "exception": false,
     "start_time": "2022-02-11T10:18:00.388503",
     "status": "completed"
    },
    "tags": []
   },
   "outputs": [],
   "source": []
  }
 ],
 "metadata": {
  "kernelspec": {
   "display_name": "Python 3",
   "language": "python",
   "name": "python3"
  },
  "language_info": {
   "codemirror_mode": {
    "name": "ipython",
    "version": 3
   },
   "file_extension": ".py",
   "mimetype": "text/x-python",
   "name": "python",
   "nbconvert_exporter": "python",
   "pygments_lexer": "ipython3",
   "version": "3.7.12"
  },
  "papermill": {
   "default_parameters": {},
   "duration": 72.883057,
   "end_time": "2022-02-11T10:18:01.591223",
   "environment_variables": {},
   "exception": null,
   "input_path": "__notebook__.ipynb",
   "output_path": "__notebook__.ipynb",
   "parameters": {},
   "start_time": "2022-02-11T10:16:48.708166",
   "version": "2.3.3"
  },
  "widgets": {
   "application/vnd.jupyter.widget-state+json": {
    "state": {
     "1ef44b7fd61f46b9a58529fb30ab8cbe": {
      "model_module": "@jupyter-widgets/controls",
      "model_module_version": "1.5.0",
      "model_name": "ProgressStyleModel",
      "state": {
       "_model_module": "@jupyter-widgets/controls",
       "_model_module_version": "1.5.0",
       "_model_name": "ProgressStyleModel",
       "_view_count": null,
       "_view_module": "@jupyter-widgets/base",
       "_view_module_version": "1.2.0",
       "_view_name": "StyleView",
       "bar_color": null,
       "description_width": ""
      }
     },
     "32513ee991144992a7b7cb4ada6a0aa5": {
      "model_module": "@jupyter-widgets/controls",
      "model_module_version": "1.5.0",
      "model_name": "ProgressStyleModel",
      "state": {
       "_model_module": "@jupyter-widgets/controls",
       "_model_module_version": "1.5.0",
       "_model_name": "ProgressStyleModel",
       "_view_count": null,
       "_view_module": "@jupyter-widgets/base",
       "_view_module_version": "1.2.0",
       "_view_name": "StyleView",
       "bar_color": null,
       "description_width": ""
      }
     },
     "3ab17e898ec5429b9e31b88e5aea4998": {
      "model_module": "@jupyter-widgets/controls",
      "model_module_version": "1.5.0",
      "model_name": "IntProgressModel",
      "state": {
       "_dom_classes": [],
       "_model_module": "@jupyter-widgets/controls",
       "_model_module_version": "1.5.0",
       "_model_name": "IntProgressModel",
       "_view_count": null,
       "_view_module": "@jupyter-widgets/controls",
       "_view_module_version": "1.5.0",
       "_view_name": "ProgressView",
       "bar_style": "",
       "description": "Processing: ",
       "description_tooltip": null,
       "layout": "IPY_MODEL_44ed9cdfee584882a4f5a27ec906eee9",
       "max": 5,
       "min": 0,
       "orientation": "horizontal",
       "style": "IPY_MODEL_aed96313a8e74cbc814722adbf101481",
       "value": 5
      }
     },
     "44ed9cdfee584882a4f5a27ec906eee9": {
      "model_module": "@jupyter-widgets/base",
      "model_module_version": "1.2.0",
      "model_name": "LayoutModel",
      "state": {
       "_model_module": "@jupyter-widgets/base",
       "_model_module_version": "1.2.0",
       "_model_name": "LayoutModel",
       "_view_count": null,
       "_view_module": "@jupyter-widgets/base",
       "_view_module_version": "1.2.0",
       "_view_name": "LayoutView",
       "align_content": null,
       "align_items": null,
       "align_self": null,
       "border": null,
       "bottom": null,
       "display": null,
       "flex": null,
       "flex_flow": null,
       "grid_area": null,
       "grid_auto_columns": null,
       "grid_auto_flow": null,
       "grid_auto_rows": null,
       "grid_column": null,
       "grid_gap": null,
       "grid_row": null,
       "grid_template_areas": null,
       "grid_template_columns": null,
       "grid_template_rows": null,
       "height": null,
       "justify_content": null,
       "justify_items": null,
       "left": null,
       "margin": null,
       "max_height": null,
       "max_width": null,
       "min_height": null,
       "min_width": null,
       "object_fit": null,
       "object_position": null,
       "order": null,
       "overflow": null,
       "overflow_x": null,
       "overflow_y": null,
       "padding": null,
       "right": null,
       "top": null,
       "visibility": null,
       "width": null
      }
     },
     "58b38774ecf14734bfc0df0d94c925c2": {
      "model_module": "@jupyter-widgets/controls",
      "model_module_version": "1.5.0",
      "model_name": "IntProgressModel",
      "state": {
       "_dom_classes": [],
       "_model_module": "@jupyter-widgets/controls",
       "_model_module_version": "1.5.0",
       "_model_name": "IntProgressModel",
       "_view_count": null,
       "_view_module": "@jupyter-widgets/controls",
       "_view_module_version": "1.5.0",
       "_view_name": "ProgressView",
       "bar_style": "",
       "description": "Processing: ",
       "description_tooltip": null,
       "layout": "IPY_MODEL_aae1e700e80e4d00a3cc3feb771a188b",
       "max": 4,
       "min": 0,
       "orientation": "horizontal",
       "style": "IPY_MODEL_1ef44b7fd61f46b9a58529fb30ab8cbe",
       "value": 4
      }
     },
     "aa62755c51c9472ab77624e55e5d15ac": {
      "model_module": "@jupyter-widgets/base",
      "model_module_version": "1.2.0",
      "model_name": "LayoutModel",
      "state": {
       "_model_module": "@jupyter-widgets/base",
       "_model_module_version": "1.2.0",
       "_model_name": "LayoutModel",
       "_view_count": null,
       "_view_module": "@jupyter-widgets/base",
       "_view_module_version": "1.2.0",
       "_view_name": "LayoutView",
       "align_content": null,
       "align_items": null,
       "align_self": null,
       "border": null,
       "bottom": null,
       "display": null,
       "flex": null,
       "flex_flow": null,
       "grid_area": null,
       "grid_auto_columns": null,
       "grid_auto_flow": null,
       "grid_auto_rows": null,
       "grid_column": null,
       "grid_gap": null,
       "grid_row": null,
       "grid_template_areas": null,
       "grid_template_columns": null,
       "grid_template_rows": null,
       "height": null,
       "justify_content": null,
       "justify_items": null,
       "left": null,
       "margin": null,
       "max_height": null,
       "max_width": null,
       "min_height": null,
       "min_width": null,
       "object_fit": null,
       "object_position": null,
       "order": null,
       "overflow": null,
       "overflow_x": null,
       "overflow_y": null,
       "padding": null,
       "right": null,
       "top": null,
       "visibility": null,
       "width": null
      }
     },
     "aae1e700e80e4d00a3cc3feb771a188b": {
      "model_module": "@jupyter-widgets/base",
      "model_module_version": "1.2.0",
      "model_name": "LayoutModel",
      "state": {
       "_model_module": "@jupyter-widgets/base",
       "_model_module_version": "1.2.0",
       "_model_name": "LayoutModel",
       "_view_count": null,
       "_view_module": "@jupyter-widgets/base",
       "_view_module_version": "1.2.0",
       "_view_name": "LayoutView",
       "align_content": null,
       "align_items": null,
       "align_self": null,
       "border": null,
       "bottom": null,
       "display": null,
       "flex": null,
       "flex_flow": null,
       "grid_area": null,
       "grid_auto_columns": null,
       "grid_auto_flow": null,
       "grid_auto_rows": null,
       "grid_column": null,
       "grid_gap": null,
       "grid_row": null,
       "grid_template_areas": null,
       "grid_template_columns": null,
       "grid_template_rows": null,
       "height": null,
       "justify_content": null,
       "justify_items": null,
       "left": null,
       "margin": null,
       "max_height": null,
       "max_width": null,
       "min_height": null,
       "min_width": null,
       "object_fit": null,
       "object_position": null,
       "order": null,
       "overflow": null,
       "overflow_x": null,
       "overflow_y": null,
       "padding": null,
       "right": null,
       "top": null,
       "visibility": null,
       "width": null
      }
     },
     "aed96313a8e74cbc814722adbf101481": {
      "model_module": "@jupyter-widgets/controls",
      "model_module_version": "1.5.0",
      "model_name": "ProgressStyleModel",
      "state": {
       "_model_module": "@jupyter-widgets/controls",
       "_model_module_version": "1.5.0",
       "_model_name": "ProgressStyleModel",
       "_view_count": null,
       "_view_module": "@jupyter-widgets/base",
       "_view_module_version": "1.2.0",
       "_view_name": "StyleView",
       "bar_color": null,
       "description_width": ""
      }
     },
     "dcd986231ec344bb9f2acb8a9fdd9a78": {
      "model_module": "@jupyter-widgets/controls",
      "model_module_version": "1.5.0",
      "model_name": "IntProgressModel",
      "state": {
       "_dom_classes": [],
       "_model_module": "@jupyter-widgets/controls",
       "_model_module_version": "1.5.0",
       "_model_name": "IntProgressModel",
       "_view_count": null,
       "_view_module": "@jupyter-widgets/controls",
       "_view_module_version": "1.5.0",
       "_view_name": "ProgressView",
       "bar_style": "",
       "description": "Processing: ",
       "description_tooltip": null,
       "layout": "IPY_MODEL_aa62755c51c9472ab77624e55e5d15ac",
       "max": 3,
       "min": 0,
       "orientation": "horizontal",
       "style": "IPY_MODEL_32513ee991144992a7b7cb4ada6a0aa5",
       "value": 3
      }
     }
    },
    "version_major": 2,
    "version_minor": 0
   }
  }
 },
 "nbformat": 4,
 "nbformat_minor": 5
}
