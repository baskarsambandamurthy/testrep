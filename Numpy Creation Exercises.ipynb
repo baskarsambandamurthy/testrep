{
 "cells": [
  {
   "cell_type": "markdown",
   "metadata": {},
   "source": [
    "##### Numpy Creation Exercises"
   ]
  },
  {
   "cell_type": "markdown",
   "metadata": {},
   "source": [
    "1. Write a function to generate a checkerboard n x n matrix using numpy creation function(s) where n is an even number.\n",
    "\n",
    "e.g  <br>\n",
    "<u>Input</u> <br>\n",
    "n  = 8 <br>\n",
    "\n",
    "<u>Output</u> <br>\n",
    "[[0 1 0 1 0 1 0 1] <br>\n",
    " [1 0 1 0 1 0 1 0] <br>\n",
    " [0 1 0 1 0 1 0 1] <br>\n",
    " [1 0 1 0 1 0 1 0] <br>\n",
    " [0 1 0 1 0 1 0 1] <br>\n",
    " [1 0 1 0 1 0 1 0] <br>\n",
    " [0 1 0 1 0 1 0 1] <br>\n",
    " [1 0 1 0 1 0 1 0]] <br>\n",
    " <br>\n",
    "<center><i>Level: Medium</i></center>"
   ]
  },
  {
   "cell_type": "markdown",
   "metadata": {},
   "source": [
    "<br>\n",
    "<br>"
   ]
  },
  {
   "cell_type": "markdown",
   "metadata": {},
   "source": [
    "2. Write a function to create a n x n matrix with row values starting from 1 and difference between each element in a row is specified by \"diff\".\n",
    "<i>where n can take values greater than 3 and \"diff\" can take values greater than 0.</i>\n",
    "\n",
    "<center><i>Level: Medium</i></center>\n",
    "\n",
    "e.g. <br>\n",
    "<u>Input</u> <br>\n",
    "n  = 8 <br>\n",
    "diff = 3 <br>\n",
    "\n",
    "<u>Output</u> <br>\n",
    "8 x 8 matrix <br>\n",
    "[[ 1,  4,  7, 10, 13, 16, 19, 22], <br>\n",
    "[ 1,  4,  7, 10, 13, 16, 19, 22], <br>\n",
    "[ 1,  4,  7, 10, 13, 16, 19, 22], <br>\n",
    "[ 1,  4,  7, 10, 13, 16, 19, 22], <br>\n",
    "[ 1,  4,  7, 10, 13, 16, 19, 22], <br>\n",
    "[ 1,  4,  7, 10, 13, 16, 19, 22], <br>\n",
    "[ 1,  4,  7, 10, 13, 16, 19, 22], <br>\n",
    "[ 1,  4,  7, 10, 13, 16, 19, 22]] <br>\n",
    " <br>\n",
    " \n",
    " <u>Input</u> <br>\n",
    "n  = 5 <br>\n",
    "diff = 2 <br>\n",
    "\n",
    "<u>Output</u> <br>\n",
    "5 x 5 matrix <br>\n",
    "[[1, 3, 5, 7, 9], <br>\n",
    "[1, 3, 5, 7, 9], <br>\n",
    "[1, 3, 5, 7, 9], <br>\n",
    "[1, 3, 5, 7, 9], <br>\n",
    "[1, 3, 5, 7, 9]] <br>\n",
    " <br>\n",
    " \n",
    " \n",
    " <u>Input</u> <br>\n",
    "n  = 6 <br>\n",
    "diff = 1 <br>\n",
    "\n",
    "<u>Output</u> <br>\n",
    "6 x 6 matrix <br>\n",
    "[[1, 2, 3, 4, 5, 6], <br>\n",
    "[1, 2, 3, 4, 5, 6], <br>\n",
    "[1, 2, 3, 4, 5, 6], <br>\n",
    "[1, 2, 3, 4, 5, 6], <br>\n",
    "[1, 2, 3, 4, 5, 6], <br>\n",
    "[1, 2, 3, 4, 5, 6]] <br>"
   ]
  },
  {
   "cell_type": "markdown",
   "metadata": {},
   "source": [
    "<br>\n",
    "<br>"
   ]
  },
  {
   "cell_type": "markdown",
   "metadata": {},
   "source": [
    "3. Write a program to generate all possible 2D shapes for the given range of values and also convert and print the 2D data of a selected possible shape of the same range.\n",
    "\n",
    "<center><i>Level: Difficult</i></center>\n",
    "\n",
    "e.g.(1) <br>\n",
    "<u>Input (Part 1)</u> <br>\n",
    "(1,60,4) <br>\n",
    "\n",
    "<u>Output (Part 1)</u> <br>\n",
    "possible 2D shapes:<br>\n",
    "(1,15),(3,5),(5,3),(15,1)<br>\n",
    "\n",
    "<u>Input (Part 2)</u> <br>\n",
    "(5,3) <br>\n",
    "<u>Output (Part 2)</u> <br>\n",
    "[[1,5,9], <br>\n",
    "[13,17,21], <br>\n",
    "[25,29,33], <br>\n",
    "[37,41,45], <br>\n",
    "[49,53,57]] <br>\n",
    "\n",
    "\n",
    " <br>\n",
    " <br>\n",
    "e.g.(2) <br>\n",
    "<u>Input (Part 1)</u> <br>\n",
    "(2,36,3) <br>\n",
    "\n",
    "<u>Output (Part 1)</u> <br>\n",
    "possible 2D shapes: <br>\n",
    "(1,12),(2,6),(3,4),(4,3),(6,2),(12,1) <br>\n",
    "\n",
    " <br>\n",
    " \n",
    " <u>Input (Part 2)</u> <br>\n",
    "(2,6) <br>\n",
    "\n",
    "<u>Output (Part 2)</u> <br>\n",
    "[[2,5,8,11,14,17], <br>\n",
    "[20,23,26,29,32,35]] <br>"
   ]
  },
  {
   "cell_type": "markdown",
   "metadata": {},
   "source": [
    "<br>\n",
    "<br>"
   ]
  },
  {
   "cell_type": "markdown",
   "metadata": {},
   "source": [
    "4. Write a program to generate random integer values array of size 30 between the given interval \"a\" and \"b\"  with both a and b inclusive. Out of this random array, select 3 values at random (call it as \"set1\").\n",
    "Generate 12 values between given interval [a, b] with both a and b inclusive,  such that difference between every 2 consecutive value is exactly same. Out of these generated 12 values, select 3 values at random (call it as \"set2\").\n",
    "\n",
    "Finally Create 2D result array with these 2 set of selections as rows.\n",
    "\n",
    "<u>Condition: Chances of occuring same values should be low in the final result</u>\n",
    "\n",
    "Note: Round off all float values to 2 decimals\n",
    "<br>\n",
    " <br>\n",
    "<center><i>Level: Medium</i></center> <br>\n",
    "\n",
    "e.g.(1) <br>\n",
    "<u>Input</u> <br>\n",
    "a =60, b= 150 <br>\n",
    " <br>\n",
    "<u>Output (set 1)</u> <br>\n",
    "[102  80  78] <br>\n",
    "<u>Output (set 2)</u> <br>\n",
    "[150.   117.27  60.  ] <br>\n",
    "<u> Output (Final) </u> <br>\n",
    "[[102 80 78 <br>\n",
    "[150.   117.27  60.  ] ] <br>\n",
    "\n",
    "e.g.(2) <br>\n",
    "<u>Input</u> <br>\n",
    "a =15, b= 50 <br>\n",
    "\n",
    "<u>Output (set 1)</u> <br>\n",
    "[15 45 17] <br>\n",
    "<u>Output (set 2)</u> <br>\n",
    "[40.45 30.91 37.27] <br>\n",
    "<u> Output (Final) </u> <br>\n",
    "[[15 45 17]<br>\n",
    "[40.45 30.91 37.27] ] <br>"
   ]
  }
 ],
 "metadata": {
  "kernelspec": {
   "display_name": "Python 3",
   "language": "python",
   "name": "python3"
  },
  "language_info": {
   "codemirror_mode": {
    "name": "ipython",
    "version": 3
   },
   "file_extension": ".py",
   "mimetype": "text/x-python",
   "name": "python",
   "nbconvert_exporter": "python",
   "pygments_lexer": "ipython3",
   "version": "3.6.10"
  }
 },
 "nbformat": 4,
 "nbformat_minor": 4
}
